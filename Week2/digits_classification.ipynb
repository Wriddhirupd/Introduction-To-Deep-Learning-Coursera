{
 "cells": [
  {
   "cell_type": "markdown",
   "metadata": {
    "slideshow": {
     "slide_type": "slide"
    }
   },
   "source": [
    "# MNIST digits classification with TensorFlow"
   ]
  },
  {
   "cell_type": "markdown",
   "metadata": {},
   "source": [
    "<img src=\"images/mnist_sample.png\" style=\"width:30%\">"
   ]
  },
  {
   "cell_type": "code",
   "execution_count": 1,
   "metadata": {},
   "outputs": [
    {
     "name": "stdout",
     "output_type": "stream",
     "text": [
      "We're using TF 1.2.1\n"
     ]
    }
   ],
   "source": [
    "import numpy as np\n",
    "from sklearn.metrics import accuracy_score\n",
    "from matplotlib import pyplot as plt\n",
    "%matplotlib inline\n",
    "import tensorflow as tf\n",
    "print(\"We're using TF\", tf.__version__)"
   ]
  },
  {
   "cell_type": "code",
   "execution_count": 2,
   "metadata": {},
   "outputs": [
    {
     "name": "stderr",
     "output_type": "stream",
     "text": [
      "Using TensorFlow backend.\n"
     ]
    }
   ],
   "source": [
    "import sys\n",
    "sys.path.append(\"../..\")\n",
    "import grading\n",
    "\n",
    "import matplotlib_utils\n",
    "from importlib import reload\n",
    "reload(matplotlib_utils)\n",
    "\n",
    "import grading_utils\n",
    "reload(grading_utils)\n",
    "\n",
    "import keras_utils\n",
    "from keras_utils import reset_tf_session"
   ]
  },
  {
   "cell_type": "markdown",
   "metadata": {},
   "source": [
    "# Fill in your Coursera token and email\n",
    "To successfully submit your answers to our grader, please fill in your Coursera submission token and email"
   ]
  },
  {
   "cell_type": "code",
   "execution_count": 3,
   "metadata": {
    "collapsed": true
   },
   "outputs": [],
   "source": [
    "grader = grading.Grader(assignment_key=\"XtD7ho3TEeiHQBLWejjYAA\", \n",
    "                        all_parts=[\"9XaAS\", \"vmogZ\", \"RMv95\", \"i8bgs\", \"rE763\"])"
   ]
  },
  {
   "cell_type": "code",
   "execution_count": 5,
   "metadata": {
    "collapsed": true
   },
   "outputs": [],
   "source": [
    "# token expires every 30 min\n",
    "COURSERA_TOKEN = \"eh1PchIfRJwKLG1P\"\n",
    "COURSERA_EMAIL = \"wriddhirup.dutta2016@vitstudent.ac.in\""
   ]
  },
  {
   "cell_type": "markdown",
   "metadata": {},
   "source": [
    "# Look at the data\n",
    "\n",
    "In this task we have 50000 28x28 images of digits from 0 to 9.\n",
    "We will train a classifier on this data."
   ]
  },
  {
   "cell_type": "code",
   "execution_count": 6,
   "metadata": {
    "collapsed": true
   },
   "outputs": [],
   "source": [
    "import preprocessed_mnist\n",
    "X_train, y_train, X_val, y_val, X_test, y_test = preprocessed_mnist.load_dataset_from_file()"
   ]
  },
  {
   "cell_type": "code",
   "execution_count": 7,
   "metadata": {},
   "outputs": [
    {
     "name": "stdout",
     "output_type": "stream",
     "text": [
      "X_train [shape (50000, 28, 28)] sample patch:\n",
      " [[ 0.          0.29803922  0.96470588  0.98823529  0.43921569]\n",
      " [ 0.          0.33333333  0.98823529  0.90196078  0.09803922]\n",
      " [ 0.          0.33333333  0.98823529  0.8745098   0.        ]\n",
      " [ 0.          0.33333333  0.98823529  0.56862745  0.        ]\n",
      " [ 0.          0.3372549   0.99215686  0.88235294  0.        ]]\n",
      "A closeup of a sample patch:\n"
     ]
    },
    {
     "data": {
      "image/png": "[encoded data removed]",
      "text/plain": [
       "<matplotlib.figure.Figure at 0x7f1d3c0905f8>"
      ]
     },
     "metadata": {},
     "output_type": "display_data"
    },
    {
     "name": "stdout",
     "output_type": "stream",
     "text": [
      "And the whole sample:\n"
     ]
    },
    {
     "data": {
      "image/png": "[encoded data removed]",
      "text/plain": [
       "<matplotlib.figure.Figure at 0x7f1d3a25ceb8>"
      ]
     },
     "metadata": {},
     "output_type": "display_data"
    },
    {
     "name": "stdout",
     "output_type": "stream",
     "text": [
      "y_train [shape (50000,)] 10 samples:\n",
      " [5 0 4 1 9 2 1 3 1 4]\n"
     ]
    }
   ],
   "source": [
    "# X contains rgb values divided by 255\n",
    "print(\"X_train [shape %s] sample patch:\\n\" % (str(X_train.shape)), X_train[1, 15:20, 5:10])\n",
    "print(\"A closeup of a sample patch:\")\n",
    "plt.imshow(X_train[1, 15:20, 5:10], cmap=\"Greys\")\n",
    "plt.show()\n",
    "print(\"And the whole sample:\")\n",
    "plt.imshow(X_train[1], cmap=\"Greys\")\n",
    "plt.show()\n",
    "print(\"y_train [shape %s] 10 samples:\\n\" % (str(y_train.shape)), y_train[:10])"
   ]
  },
  {
   "cell_type": "markdown",
   "metadata": {},
   "source": [
    "# Linear model\n",
    "\n",
    "Your task is to train a linear classifier $\\vec{x} \\rightarrow y$ with SGD using TensorFlow.\n",
    "\n",
    "You will need to calculate a logit (a linear transformation) $z_k$ for each class: \n",
    "$$z_k = \\vec{x} \\cdot \\vec{w_k} + b_k \\quad k = 0..9$$\n",
    "\n",
    "And transform logits $z_k$ to valid probabilities $p_k$ with softmax: \n",
    "$$p_k = \\frac{e^{z_k}}{\\sum_{i=0}^{9}{e^{z_i}}} \\quad k = 0..9$$\n",
    "\n",
    "We will use a cross-entropy loss to train our multi-class classifier:\n",
    "$$\\text{cross-entropy}(y, p) = -\\sum_{k=0}^{9}{\\log(p_k)[y = k]}$$ \n",
    "\n",
    "where \n",
    "$$\n",
    "[x]=\\begin{cases}\n",
    "       1, \\quad \\text{if $x$ is true} \\\\\n",
    "       0, \\quad \\text{otherwise}\n",
    "    \\end{cases}\n",
    "$$\n",
    "\n",
    "Cross-entropy minimization pushes $p_k$ close to 1 when $y = k$, which is what we want.\n",
    "\n",
    "Here's the plan:\n",
    "* Flatten the images (28x28 -> 784) with `X_train.reshape((X_train.shape[0], -1))` to simplify our linear model implementation\n",
    "* Use a matrix placeholder for flattened `X_train`\n",
    "* Convert `y_train` to one-hot encoded vectors that are needed for cross-entropy\n",
    "* Use a shared variable `W` for all weights (a column $\\vec{w_k}$ per class) and `b` for all biases.\n",
    "* Aim for ~0.93 validation accuracy"
   ]
  },
  {
   "cell_type": "code",
   "execution_count": 8,
   "metadata": {},
   "outputs": [
    {
     "name": "stdout",
     "output_type": "stream",
     "text": [
      "(50000, 784)\n",
      "(10000, 784)\n"
     ]
    }
   ],
   "source": [
    "X_train_flat = X_train.reshape((X_train.shape[0], -1))\n",
    "print(X_train_flat.shape)\n",
    "\n",
    "X_val_flat = X_val.reshape((X_val.shape[0], -1))\n",
    "print(X_val_flat.shape)"
   ]
  },
  {
   "cell_type": "code",
   "execution_count": 9,
   "metadata": {},
   "outputs": [
    {
     "name": "stdout",
     "output_type": "stream",
     "text": [
      "50000\n"
     ]
    }
   ],
   "source": [
    "print(len(y_train))"
   ]
  },
  {
   "cell_type": "code",
   "execution_count": 10,
   "metadata": {},
   "outputs": [
    {
     "name": "stdout",
     "output_type": "stream",
     "text": [
      "(50000, 10)\n",
      "[[ 0.  0.  0.  0.  0.  1.  0.  0.  0.  0.]\n",
      " [ 1.  0.  0.  0.  0.  0.  0.  0.  0.  0.]\n",
      " [ 0.  0.  0.  0.  1.  0.  0.  0.  0.  0.]] [5 0 4]\n"
     ]
    }
   ],
   "source": [
    "import keras\n",
    "\n",
    "y_train_oh = keras.utils.to_categorical(y_train, 10)\n",
    "y_val_oh = keras.utils.to_categorical(y_val, 10)\n",
    "\n",
    "print(y_train_oh.shape)\n",
    "print(y_train_oh[:3], y_train[:3])"
   ]
  },
  {
   "cell_type": "code",
   "execution_count": 11,
   "metadata": {
    "collapsed": true
   },
   "outputs": [],
   "source": [
    "# run this again if you remake your graph\n",
    "s = reset_tf_session()"
   ]
  },
  {
   "cell_type": "code",
   "execution_count": 12,
   "metadata": {
    "collapsed": true
   },
   "outputs": [],
   "source": [
    "# Model parameters: W and b\n",
    "#W = ### YOUR CODE HERE ### tf.get_variable(...) with shape[0] = 784\n",
    "#b = ### YOUR CODE HERE ### tf.get_variable(...)\n",
    "W = tf.get_variable(\"W\", shape=(784,10), dtype = tf.float32, initializer = tf.contrib.layers.xavier_initializer())\n",
    "b = tf.get_variable(\"b\", shape=(10,), dtype = tf.float32, initializer = tf.contrib.layers.xavier_initializer())"
   ]
  },
  {
   "cell_type": "code",
   "execution_count": 13,
   "metadata": {
    "collapsed": true
   },
   "outputs": [],
   "source": [
    "# Placeholders for the input data\n",
    "#input_X = ### YOUR CODE HERE ### tf.placeholder(...) for flat X with shape[0] = None for any batch size\n",
    "#input_y = ### YOUR CODE HERE ### tf.placeholder(...) for one-hot encoded true labels\n",
    "input_X = tf.placeholder(tf.float32, shape=[None, 784]) \n",
    "input_y = tf.placeholder(tf.float32, shape=[None, 10])"
   ]
  },
  {
   "cell_type": "code",
   "execution_count": 14,
   "metadata": {
    "collapsed": true
   },
   "outputs": [],
   "source": [
    "# Compute predictions\n",
    "logits = tf.matmul(input_X, W)+b  ### YOUR CODE HERE ### logits for input_X, resulting shape should be [input_X.shape[0], 10]\n",
    "probas = tf.nn.softmax(logits) ### YOUR CODE HERE ### apply tf.nn.softmax to logits\n",
    "classes = tf.argmax(probas, 1) ### YOUR CODE HERE ### apply tf.argmax to find a class index with highest probability\n",
    "\n",
    "# Loss should be a scalar number: average loss over all the objects with tf.reduce_mean().\n",
    "# Use tf.nn.softmax_cross_entropy_with_logits on top of one-hot encoded input_y and logits.\n",
    "# It is identical to calculating cross-entropy on top of probas, but is more numerically friendly (read the docs).\n",
    "loss = tf.reduce_mean(tf.nn.softmax_cross_entropy_with_logits(logits=logits, labels=input_y))### YOUR CODE HERE ### cross-entropy loss\n",
    "\n",
    "# Use a default tf.train.AdamOptimizer to get an SGD step\n",
    "step = tf.train.AdamOptimizer().minimize(loss) ### YOUR CODE HERE ### optimizer step that minimizes the loss"
   ]
  },
  {
   "cell_type": "code",
   "execution_count": 15,
   "metadata": {},
   "outputs": [
    {
     "data": {
      "text/plain": [
       "<tf.Operation 'Adam' type=NoOp>"
      ]
     },
     "execution_count": 15,
     "metadata": {},
     "output_type": "execute_result"
    }
   ],
   "source": [
    "step"
   ]
  },
  {
   "cell_type": "markdown",
   "metadata": {},
   "source": [
    "# Submit a linear model"
   ]
  },
  {
   "cell_type": "code",
   "execution_count": 16,
   "metadata": {
    "scrolled": false
   },
   "outputs": [
    {
     "data": {
      "text/html": [
       "<img src=\"data:image/jpeg;base64,/9j/4AAQSkZJRgABAQAAAQABAAD/2wBDAAIBAQEBAQIBAQECAgICAgQDAgICAgUEBAMEBgUGBgYFBgYGBwkIBgcJBwYGCAsICQoKCgoKBggLDAsKDAkKCgr/2wBDAQICAgICAgUDAwUKBwYHCgoKCgoKCgoKCgoKCgoKCgoKCgoKCgoKCgoKCgoKCgoKCgoKCgoKCgoKCgoKCgoKCgr/wAARCAEgA2ADASIAAhEBAxEB/8QAHwAAAQUBAQEBAQEAAAAAAAAAAAECAwQFBgcICQoL/8QAtRAAAgEDAwIEAwUFBAQAAAF9AQIDAAQRBRIhMUEGE1FhByJxFDKBkaEII0KxwRVS0fAkM2JyggkKFhcYGRolJicoKSo0NTY3ODk6Q0RFRkdISUpTVFVWV1hZWmNkZWZnaGlqc3R1dnd4eXqDhIWGh4iJipKTlJWWl5iZmqKjpKWmp6ipqrKztLW2t7i5usLDxMXGx8jJytLT1NXW19jZ2uHi4%2BTl5ufo6erx8vP09fb3%2BPn6/8QAHwEAAwEBAQEBAQEBAQAAAAAAAAECAwQFBgcICQoL/8QAtREAAgECBAQDBAcFBAQAAQJ3AAECAxEEBSExBhJBUQdhcRMiMoEIFEKRobHBCSMzUvAVYnLRChYkNOEl8RcYGRomJygpKjU2Nzg5OkNERUZHSElKU1RVVldYWVpjZGVmZ2hpanN0dXZ3eHl6goOEhYaHiImKkpOUlZaXmJmaoqOkpaanqKmqsrO0tba3uLm6wsPExcbHyMnK0tPU1dbX2Nna4uPk5ebn6Onq8vP09fb3%2BPn6/9oADAMBAAIRAxEAPwD9/KKKKACiiigAooooAKKKKACiiigAooooAKKKKACiiigAooooAKKKKACiiigAooooAKKKKACiiigAooooAKKKKACiiigAooooAKKKKACiiigAooooAKKKKACiiigAooooAKKKKACiiigAooooAKKKKACiiigAooooAKKKKACiiigAooooAKKKKACiiigAooooAKKKKACiiigAooooAKKKKACiiigAooooAKKKKACiiigAooooAKKKKACiiigAooooAKKKKACiiigAooooAKKKKACiiigAooooAKKKKACiiigAooooAKKKKACiiigAooooAKKKKACiiigAooooAKKKKACiiigAooooAKKKKACvPfjt%2B1J8FP2b5NGsfil4g1Maj4ilnTQNB8OeF9R1zVNR8lVed4bHTbee5kjiVkMkixlI96biu5c%2BhV4N%2B0P8D/j5/wANJ%2BDv2tv2bLLwfrWueH/B2seFNX8KeOdcutLtLywv7mwuxcQXtraXj288U2noCpt3WVJSCUKK1ABpf/BTL9izWLvxPb2nxXv0h8FWsk/jLUrvwXrEFjoIS0iu9l5dy2iwWsrQzRskMjrJIWKorMrKL2n/APBQ/wDZK1HwBrXxFTx/q9vB4f1ay0vVdE1DwNrNrrkV5ebfscC6PNaLqEr3AYGER27eaAxTcFYjy2b9gH4y%2BMf2a/jn8NfGHinwppHin4o/FS38daHc6U1xeWFpeW0OiywQ3IkihkkiN3pRRwoyYHGDuJVaPi79i/8AaV%2BLmr/Ef45fG34S/CjWvFnjWx8KaPp/gKy%2BI2s2Wm6fY6Hcaldw3qa7b6al5DqDXOqTOksVoPJSKNFZiWcgHsviH9vv9mzwv4a8OeI9XvvG3meK0v5NE8P2vwm8SXGuSRWUscV3NJpMWntf28MLzQq8s0CIpmiy37xM%2Bmaz8RPBHhv4e3XxX8T%2BJbbSvDljo76rf6vqrfZYbSySIzPPMZdvlKsYLNvxtAOcYNfGHin9hH9s/WPgX4X8Nay3hfxV470a58RHRfGV/wDHbxNpGr%2BCLW%2BuUktLO11q1sJLzXIYkjhEy3qw/aTbReYCFGPUfjR/wTotfj1%2Bzb4n%2BHHxD%2BOfjW78d%2BMPhfH4Z17xS3jbWho818tpDE2oJoS3y2FuzzQLK3kRRSEPIBIrSM5AOkg/4KUfsZf8K58V/FbWPite6Jo3giysr7xQ/ifwdq%2Bk3NlZXkxhtb37LeWsVxJaSyK6pcxxtC3luQ%2BEYjj/AI3f8FZP2d/hn8ENU%2BMfgPRfFXiqbQfiD4X8L674Y/4QXXbHU7A6zqVrax3T2cmnNdeV5Fw88DeT5d48aW8MhknjB8r1T/gmJ8ZPHfwq8faR4i8DeG9G8Y%2BI9D0fR7DxDqv7RfjPxut3aWusW%2BoTRyf27AfsEZ8likUSzHe%2BGkxknv8A9qH9gz40/GD4g/F/4g%2BBfEPheOTxfB8LbzwlZ6tfXMSvf%2BE/EdzrUsN40dvJ5ENwGt4VljEzrl2MfyKrgHqFh/wUE/Zb1H4m2XwZh8T%2BJo/Fd5oun6xLoF38N9egudO0%2B9adILu/SSyU6dDut5VeS68pYiFEhQum6j4a/wCCmH7FPi3wZ4s%2BIWkfGC4TR/Bfgi68Zaxe6h4S1W0Fx4et0Z5tWsVntUbVLNVQ4nsxPGxZArEugbB0P9kP4ofEP4mfG74g/G9fD2gxfGj4O%2BHfCF1Y%2BE9duNRl0u4tE11Ltlnns7XzYwNViMT7FZikm6OPA3fN37Y37Kn7UOj/ALDHxS%2BJv7TF34AtIfhD%2BxT8QfBHhePwFqF5cNrzXukWxn1G6W5toBYqE0i3CWcbXAVppCZ22oKAPrPw9/wUl/Yy8TaHrHiPT/i1dQWehppU1/JqnhLVbJmtNSu1s7HUIUuLVGubCWdgovoQ9qoDO0qorMPT9E%2BLvw88R/FLX/gvofiH7T4k8LaXp%2Boa/YR2k22zgvmuBa7pinlF3%2ByzHy1cyKoRmVVkjLfJOofsz%2BIPFegeKfjb/wAFIvF/wz8J%2BBbf9nu5%2BHUlx4f8QTLay6beyQyXmq3k17BbpYOTBbCG2QzCAmT/AEiQsuOw/wCCPngP4u2f7I9r8f8A9pDUDf8AxJ%2BL15H4n8V6g9nJbtJCLSCy01fKl%2BeH/iX2lpI0TYKSzTZAYtkA%2BqqKKKACiiigAooooAKKKKACiiigAooooAKKKKACiiigAooooAKKKKACiiigAooooAKKKKACiiigAooooAKKKKACiiigAooooAK8R0j/AIKMfse6ld69Z6n8Urzw83hzw5c%2BINQk8a%2BEdV0GObSbd0jnv7WTUrWBb63R5IlaW2MqAyxjOXXPtN7FczWcsNndCCZ4mWKYx7/LYjhtp64POO9fmJq//BHL9uX4v6t4X1z43fHHQ31vw14P1Cz1DxRqHxW8TeJx4h1v7ZpV9a6idLvoobLSbaS50xfPsLIBRHJtWWQKgUA%2B2X/b/wD2YbX4aN8WNY8QeKtK0ttcg0axs9c%2BGWv2GqanfzIZIYLLTbixS9v2kQM6/Z4ZAyo7AkIxHReA/wBqz4H/ABH1%2By8J%2BHPEOqQ6vf8AhSfxJDpGteFdS0y7TTYbv7JLLLDeW8UkDrP8hhkVZe%2BzbzXk3xO%2BDn7bvxib4e/G3XPBvwq0P4h/Cjx1NrHh/wAM2vjjUr/Rdcs7jSbvTLmO4vn0qGaxmKXskkbpa3AjMQU%2BYJGxV%2BJPwG/bg1/4y%2BHf2mvA%2BjfCu08WX3ww1XwX4x0LUvFepSWGkLcX8N1a39lcJpwk1AxCN1kt5YrQSlxiWLHIB3Gk/wDBRv8AZA8R694F8LeFfiNqus6n8SfBuleLfBunaJ4H1m9nvND1F9lrqMiQWjNa2%2B7HmSTiNbcMpm8oMCdj4a/tufs3fFf4jXPwn8M%2BL9Ws9ft9LudThsvE/gzVtEW/sbeRI57uyl1G1gjv4I3liDy2zSIvmISQGUnyj9hT9hL4sfsw6/8ADjWfHniDw1dnwd%2Byl4R%2BGN%2B%2BkXM8rNq2lvM1zNF5kEe61bemxmKu235o0wK8a%2BGn/BKv9sbxP8UfC/ib9qb4w2eqRaf4A8V%2BF/GniaD4v%2BJNavPEUur2KW39p2umX0Men6EcqWNpaKUXKgTOI1WgD6l8J/8ABRf9kfxrosfirQfHeuf2Hcarpen6f4lvfh/rdrpWoy6lex2VlJaX09mlteQS3M0UYuIJHhBlQs4VgT6X4W%2BLvw88a/EDxT8LvC/iH7XrnguSzj8T2iWkwWxkuoPtEEZlZBG7tCVkKIzMiyRlgokTd8w%2BOPAnxF8K/wDBPbxp8CP%2BChnif4VeCPAWg/DSLQLb4meHfFt2GadI0trXUntLqzgTTZlmFvJDBHcXTGcoiOTtDdr/AMEr/h98WPDf7ImlfFX9oqwS3%2BJ3xYvpfHXxEhW3aL7Pf36xmG02N8yfZbGOys9pyQLXBoA%2BjaKKKACiiigAooooAKKKKACiiigAooooAKKKKACiiigAooooAKKKKACiiigAooooAKKKKACiiigAooooAKKKKACiiigAooooAKKKKACvF/j14/8A2i/%2BGi/AvwI%2BAvjPwV4fTX/BXiXXtX1Pxf4Lu9aJOnXeh28MMMdvqVj5Yb%2B1JWZmZ8%2BWgAXkn2ivCviLrSWX/BSr4Q6LIoxe/BP4hsjZ53R6t4NOPyZj%2BFJtLcuEJVHaPZv7tWX/APhB/wDgoX/0dB8Gf/DD6t/81FH/AAg//BQv/o6D4M/%2BGH1b/wCaivZqKZB4z/wg/wDwUL/6Og%2BDP/hh9W/%2Baij/AIQf/goX/wBHQfBn/wAMPq3/AM1FezUUAeM/8IP/AMFC/wDo6D4M/wDhh9W/%2Baij/hB/%2BChf/R0HwZ/8MPq3/wA1FezUUAeM/wDCD/8ABQv/AKOg%2BDP/AIYfVv8A5qKP%2BEH/AOChf/R0HwZ/8MPq3/zUV7NRQB4z/wAIP/wUL/6Og%2BDP/hh9W/8Amoo/4Qf/AIKF/wDR0HwZ/wDDD6t/81FezUUAeM/8IP8A8FC/%2BjoPgz/4YfVv/moo/wCEH/4KF/8AR0HwZ/8ADD6t/wDNRXs1FAHjP/CD/wDBQv8A6Og%2BDP8A4YfVv/moo/4Qf/goX/0dB8Gf/DD6t/8ANRXs1FAHjP8Awg//AAUL/wCjoPgz/wCGH1b/AOaij/hB/wDgoX/0dB8Gf/DD6t/81FWtf%2BN/7InwptNI0n46fGH4c%2BHNc1DRYNQNt4u8Q2Fpd3EcmR5%2B24dXZGdJAG6ZRhnggZv/AA1//wAE4P8Ao6L4I/8AhbaP/wDHa5p4zB05OM6sU10cop/c5JntYfhviTF0I1qGBrzhJXUo0a0otd1KNGUWtHqm1puWP%2BEH/wCChf8A0dB8Gf8Aww%2Brf/NRR/wg/wDwUL/6Og%2BDP/hh9W/%2Baiq//DX/APwTg/6Oi%2BCP/hbaP/8AHa9O0DRfhZ4r0Ky8U%2BFtJ8P6lpmpWkd1p2o6fBBNBdQSKHjljkQFXRlIZWUkEEEHBq6WJw9dtU5xlbtJP8mznx2TZzlcIzxuFq0lJ2TqU6lNN72TnTgm7a2Tbtra2p5z/wAIP/wUL/6Og%2BDP/hh9W/8Amoo/4Qf/AIKF/wDR0HwZ/wDDD6t/81FeefD7/go1%2Bxf4v8D2fjDxD8PfE%2Bgz6p441rwtomjXPwe1ue81a9064v45FtIodPZ7omHT552WJXMIBjk2SKyjsviF%2B1R%2By14FsvHtpeaJFp%2BseAvCGteIby28WeBNW0mzu7PTF/0ue3upNOcXtvEzRCSWyS6KiaNgj70V9jzTR/4Qf/goX/0dB8Gf/DD6t/8ANRR/wg//AAUL/wCjoPgz/wCGH1b/AOaiqth%2B1Z%2BxhqHxnk/Z%2BhvLf/hKLfxBHoN1H/wg1%2BLCHVX06PUo7FtQa0Fos72kqTJGZQzg4UFgVGz8a/ir8FfhJ%2Bzzrv7Q%2Bj%2BEdG8Uadpdg0mm2%2BhrbSDVbppRBBaxTAFA0lwyQ7idqsxLdDQBQ/4Qf/goX/0dB8Gf/DD6t/8ANRR/wg//AAUL/wCjoPgz/wCGH1b/AOain/s4fEC2%2BLl54y8D/FH4FeG/CvjDwH4gh0zX9K0fUV1WxkWextr23uba6ktLZ5Y3iuVU74I2WWKVcMoV38k%2BJn7aPiH4DeGfifL8cv2Q/BGneIPAHwsHjuy03QvHQvrO6sjPPAILy6k0uBrCbfA3Kw3EbKshR38phQB6x/wg/wDwUL/6Og%2BDP/hh9W/%2Baij/AIQf/goX/wBHQfBn/wAMPq3/AM1FeaeNP22/h18Pv2fPC3xc8Q%2BF/gbd6h438VyaJ4au9E%2BLME/hT93bXF1Lc3WuyabELeNIbS4DbbaQ%2Bb5US7mkGI/iz%2B2lbfC/S7jXLT9mjwV4hsPB3wusviF8WtU0Pxiktpo2hXU12kc%2Bly/2f/xN2MenajOA4tFaO1HzBpFSgD0//hB/%2BChf/R0HwZ/8MPq3/wA1FH/CD/8ABQv/AKOg%2BDP/AIYfVv8A5qK5bW/2jbDw1%2B2NpP7Jep/Bz4aXt14jhvJtHj0HxuLvW7G3hs5blL7VdLOnIdPsZHiNuLlZ5x509um0mU7OPuv2xvHfgzXviT4S%2BKP7HHgGLUvA03hLStL/AOES8eyalbar4g8Q34srLS5ZbjRrRrQxmaxmmlCShIb6NwrEMtAHrP8Awg//AAUL/wCjoPgz/wCGH1b/AOaij/hB/wDgoX/0dB8Gf/DD6t/81FeIfET/AIKGaV8N4tC8KeLfgH8JfDfi64%2BIuqeDfFMXjn4orpGg6Te2mnR6lE0OptpMjXS3FtcWrxK1tC2Z9pAKkHvfH/7V3gfwx%2B0voP7LmheAfhR/b11puk3uvHxX8QYdI3fbppkS10iI2Msmr3SrbzSGPbbrte3y4M2EAOy/4Qf/AIKF/wDR0HwZ/wDDD6t/81FH/CD/APBQv/o6D4M/%2BGH1b/5qK57Sv2oPhprv7b0v7JGkfBXS5NHtPA%2Bt6xfeP5JoUt49S0u50aO701IDD%2B8EcWt2sj3AkCo4eHaXSTy/OtL/AOCkfwj1H4V/Eb4sXn7Pmi6Vp/hjx9pXhvwTNrms29nB4jh1K0srmy1S4mktwumWjQ3n2li3nPHaxmQqZD9nAB7N/wAIP/wUL/6Og%2BDP/hh9W/8Amoo/4Qf/AIKF/wDR0HwZ/wDDD6t/81FebeJf2ttbtvCHhM/DT9mf4Z%2BOvE/iDwdr/i68tPCXxIS50RdF0ue3hd7PVP7LH225ma8tliiaCGMv5weZFi3voeMP2lvEdj40%2BENx8Ov2Y/h94h8D/GbXNNs/C%2BtP4ymtdYW0uNNl1O4vH07%2ByHhCQWtvO%2BPtg3lY1yjSBQAdz/wg/wDwUL/6Og%2BDP/hh9W/%2Baij/AIQf/goX/wBHQfBn/wAMPq3/AM1FcL%2Byd%2B134D/aR1Tx/ea/4K%2BD2gaJ4C1vXtP1NNO%2BI8Wpa1YLpmq3VibjU7BtOgXTYpUtJLhSZ5MKyjkZYVfhP%2B254D%2BJPwX%2BIfxc1P8AZiXR7jwr4%2Bj8MeEPDM7RNf8AiiW7sNNvNK%2BRoE%2BxTXS6pbq0Mm77P87SuAj7AD0T/hB/%2BChf/R0HwZ/8MPq3/wA1FUPA/jj9qzwd%2B1Z4c%2BCPxu%2BI/wAPfE2jeJvh74h1yGbwr8PL7Rbq0utNvtEt0VnuNXvkljdNUlJUIjBokIbGQdH9n74ieHP2h/2OvB37Ttp8MtP8M3njL4eWPiWLTLSRJ20yW5skuREtwIojL5Zfb5mxN23O1c4pvjj/AJSF/C//ALIz48/9O3hCgD2aiiigAooooAKKKKACvnH4TeKv27/jro%2BveO/C/wAb/hJoGl2/xC8VaHpelX/wf1S/uIrXS9ev9MhaW4TxFAssjx2auzLFGu5yAoAFfR1eM/sH/wDJENc/7LN8R/8A1NdboAP%2BEH/4KF/9HQfBn/ww%2Brf/ADUUf8IP/wAFC/8Ao6D4M/8Ahh9W/wDmor2aigDxn/hB/wDgoX/0dB8Gf/DD6t/81FH/AAg//BQv/o6D4M/%2BGH1b/wCaivZqKAPGf%2BEH/wCChf8A0dB8Gf8Aww%2Brf/NRR/wg/wDwUL/6Og%2BDP/hh9W/%2BaivZqKAPGf8AhB/%2BChf/AEdB8Gf/AAw%2Brf8AzUUf8IP/AMFC/wDo6D4M/wDhh9W/%2BaivZqKAPGf%2BEH/4KF/9HQfBn/ww%2Brf/ADUUf8IP/wAFC/8Ao6D4M/8Ahh9W/wDmor2aigDxn/hB/wDgoX/0dB8Gf/DD6t/81FH/AAg//BQv/o6D4M/%2BGH1b/wCaivZqKAPGf%2BEH/wCChf8A0dB8Gf8Aww%2Brf/NRR/wg/wDwUL/6Og%2BDP/hh9W/%2BaivZqKAPGf8AhB/%2BChf/AEdB8Gf/AAw%2Brf8AzUUf8IP/AMFC/wDo6D4M/wDhh9W/%2BaivZqKAPGf%2BEH/4KF/9HQfBn/ww%2Brf/ADUUf8IP/wAFC/8Ao6D4M/8Ahh9W/wDmor2aigDxn/hB/wDgoX/0dB8Gf/DD6t/81FH/AAg//BQv/o6D4M/%2BGH1b/wCaivZqKAPGf%2BEH/wCChf8A0dB8Gf8Aww%2Brf/NRR/wg/wDwUL/6Og%2BDP/hh9W/%2BaivZqKAPGf8AhB/%2BChf/AEdB8Gf/AAw%2Brf8AzUUf8IP/AMFC/wDo6D4M/wDhh9W/%2BaivZqKAPGf%2BEH/4KF/9HQfBn/ww%2Brf/ADUUf8IP/wAFC/8Ao6D4M/8Ahh9W/wDmor2aob3ULDTovP1C%2BhgT%2B/NKFH5mjYG0tzx//hB/%2BChf/R0HwZ/8MPq3/wA1FH/CD/8ABQv/AKOg%2BDP/AIYfVv8A5qK9KX4n/DR7r7CnxD0Iz/8APEatDv8Ay3Zq3qHi/wAJ6TYf2pqvijTra1PS5uL2NI/%2B%2BicVCqU2r3X3r/MhVaTV1Jfev8zyr/hB/wDgoX/0dB8Gf/DD6t/81FH/AAg//BQv/o6D4M/%2BGH1b/wCaiug1b9sL9knQZ2tdc/ak%2BHNlKn347vxvYRsv1DTDFc34m/4KQfsCeEbY3er/ALY/w4dR1TT/ABda3j/98W7u36VhPH4Gn8VWC/7ej/8AJHLPMstpK868F6zh/wDJEn/CD/8ABQv/AKOg%2BDP/AIYfVv8A5qKP%2BEH/AOChf/R0HwZ/8MPq3/zUV5tqP/BbT/gm/Bdvp2g/HC/125Q4MGheDdVuCT7MLYKfwNYmr/8ABcX9k7TQzWXwt%2BL2oKOj2fw9lUN9PNdK45Z9ksd8RD5O/wCSZy08/wAlrT5KWIjN9o3m/uhGbPZP%2BEH/AOChf/R0HwZ/8MPq3/zUUf8ACD/8FC/%2BjoPgz/4YfVv/AJqK%2BbdY/wCDhv8AZR0d2S4/Z7%2BM0W3%2BO88M2Fun5yXw/lWJc/8ABxV8C9WBTwF8AddupP7viDxhomlrn/ee6euaXFPD8dPrEfx/%2BRR7NKjj8RG9DCYif%2BHC4uX5YRr8T6t/4Qf/AIKF/wDR0HwZ/wDDD6t/81FH/CD/APBQv/o6D4M/%2BGH1b/5qK%2BNNc/4ODPGmmKZof2RvBXkkZSQ/tF6NM5HvHBE7A%2B1cpJ/wcm%2BMPt39nWn7JGh3c56RWHj6e5J/GLT2B/OuefGPD0HZ1v8AyWX%2BR6%2BH4W42xkeahkmPku6wGLt%2BNCJ97f8ACD/8FC/%2BjoPgz/4YfVv/AJqKt/srfEb40%2BMNY%2BKHgT46a/4X1bVPAPxCi0Oz1Xwn4audJt7q1l0HR9TVnt7i9vGWRZNRlQsJdpWNDtU5z8K23/BeH9sDxXGD4D/4Jy39yWHyeXJqt3u%2Bnl2C19H/APBJD4x/FP4/%2BGfjT8XPjV8LJ/BXiXV/jMp1Hwzc2lxA9mIvC3h6GLKXCrIN8UccnzAZEgI4Irvy/PcuzSs6eHcm0r6xklbTq0l12OXF5Pn%2BXQ58fgK%2BHje16tKVNN9lzy5r6N/B0eq2f1tRRRXsHAFFFFABRRRQAUUUUAFFFFABRRRQAUUUUAFFFFABRRRQAUUUUAY/xA%2BInw/%2BE3g6/wDiJ8U/HWjeGfD%2BlxCTU9d8QanFZWdohYKGlmmZUjBZlGWIGSB3qve/Fn4V6b8NF%2BNGo/Evw/b%2BDm0qPU18WT6zAmmGxkRXS6F0X8ryWRlYSbtpDAg4NVfjd4i8PeEvhPrviLxToWqanZWtkWkstF8NXesXUjlgI/Ks7OGaeZg5U4jjYrjdwFJHzz%2ByV8d9M%2BE//BLr4fXfiX4B/FLVNZ8AfBbRU1XwL/wqXWotWub%2Bwsre3eygtrq0jMs/2lMIBwQPNB8tTIAD6U%2BHPxP%2BGnxi8JW/j74R/EPQvFOhXbOtprXhzVob60mKMVcJNCzIxVgVODwQQa%2Bef2hdZ/sv/grP%2BzNY78f2l8MfiZb49cSeGJcf%2BQq6P/gndYXV78LvFPxT8T2er2nivx/46uPEPjTT9S8FaroUFhqD2dnbpaWkGqWttPPBDa21pEbrywtxNHPLhGd408Q/akm%2BKnhz/gtp%2ByXd%2BOfGnh%2B/0HU9F%2BJVv4csNK8NT2V1YRnT9KLJdXEl7Ml4zOItrJDbhdrZV9w28uMn7OhzecfxlFfqe7w5hvreaey706z/APAaFaX/ALafd1FFFdR4QUUUUAFFFFABRRRQAUUUUAFFFFABRRRQB5nqX7Mn7Nvxo0fQfFPxi/Z78D%2BLNTt/D9rawaj4l8J2d/PHAql1iWSeNmCBndgoOAXY4yTVL/hgf9hX/oyz4S/%2BG50z/wCMVyfxe/4KQfsX/sfS%2BHPhp%2B0X8Zf%2BEd1u%2B8KWep2tl/wjuo3e%2B1ffEsm%2B1t5EGXhlG0sG%2BXOMEE8h/wAPzf8Agll/0dF/5ZOuf/IVeLiMXw7TryjXnSU09eb2d7%2Bd1e/qaLxDxGVL6pHOJ0lT05FiakFHrZRVeKjvsorfbU9b/wCGB/2Ff%2BjLPhL/AOG50z/4xXp2gaBoXhTQrLwt4W0W003TNNtI7XTtO0%2B2WGC1gjUJHFHGgCoiqAqqoAAAAGBXyt/w/N/4JZf9HRf%2BWTrn/wAhV9PeAfHXhX4oeBNF%2BJfgXVPt2ieItIttT0e98h4vtFrcRLLFJskVXTcjqdrKGGcEA8V0YHEZPWnJYOVNtLXk5b28%2BVLS/cUuLqvEn7qeYyxPJrZ151eW%2Bl7Sq1LX2ukr7X6HhPww/YX8V%2BAPHnhTWtT%2BM%2Bm6hoPgf4oeKvF/hrS4fCEkF2F13%2B1nntLi5N66SmKXVWKSpDF%2B7hCMhZjIPI9a/wCCMMuveKfHviS8%2BO3h2K48ZeAvH/hf%2B2rX4Xomt3MfiaRXFxquom%2BL6o9ltEcKBbdPLG3amAw92sP2/PhHq%2BnWM2k%2BFPEc19daL4t1K70mX7Bby6Wnhy9Ww1GO7knu0ggYXbpAjNL5bEli6xq7rwng3/gp94H%2BO03w41H4CQWctjrvxn1HwN43gv76x1KXTzb%2BDdX8Qoba50q%2BuLOV2NpYHek8yBJpo2CSqfK9Ig66T9hgP4h1XXx8UMHU/jrpPxHMQ0T/AFf2LSNP037Bnz/m3/YPM87A2%2Bbt8ttu5u8%2BNfwO1D9oD9nnXfgl4/8AGMVvf61YNGniDQ9LMAsrpJRNa3UUEssuWhlSF9rOyu0ZzgNgfPHi3/gqtK/wQ8KeNfhF8Kdf8R3uqQfD2TxH4pl8PwW%2BjaK3iS705UguYBqTXMdw1re%2BaqQG6igaaDzZmUkt9IfGH48eH/hJ8AvHnx9utG1K5sfAXh/WNUvrK40%2Ba0luBp0MssqxidFLK3ksElUNG4IZGZSCQDnfgL%2Bz/wDFD4U6v4i8d%2BNfi1ofiHxV448Wxat401Gy8HzWFpJawaZFYW9lY27X0zWmz7PBKZJZbkszXA2qJU8ni/2cf2S/2p/gfovji/8AFn7THw/8WeMfGt2dRu/Gdz8Ir2Cea%2BDgQi5jOuyLLZwQAW8NpCbcRqAwcu0jPt/stfGz4/eIfip4m%2BA37So8I3PiLRvBXh3xXa6l4L0q5srQWuqyalAbJo7m5uHeW3n0ubM4dFlSaMiKMhlrmvGX7RP7VHwy%2BPGv/CO%2BufA3jSWT4X%2BIvF2j6V4X8KX9ve%2BHjaTQx6ZDfs19OL0XhkmjQxpauz2U3lo6q5iAK6f8E8/F4cfFGb4zeG5finF8YX%2BItr4hk%2BHj/wBhQai%2BgDw%2B8K6UNQEwiNgNxb7b5puT5xkI/dVgXX/BKjULL4dy/C3wf%2B0HHYaP4v8Ah7/whfxeiufB4mbxBpLajqF88en7LqNdJbdrGqwplbpI4bpFCFoVc5%2Bn/tv/ALTV/wDsh3/xD0HXtE174maf4o8LWXiPw3afs8eKbS78KWeo3lnHeS3GgSX76lfeTby3U8csTRJIICVDBGrb8Q/tjfHrxhoXhDwv%2BzT8Qfhx4l1%2B%2B%2BH/AIo8Wa74n1XwVqdnp9x/Y15a2R0qPTm1AXOn3L3F20MrzzStbNZyh4HZhGgB6l4g/Z1%2BL/xA/aH8JfFb4k/GnQLjw14A8SX2teEvD2h%2BB5bLUPOuNOu9PEV7qEl/MtxCkN7M2yK2gLyJCzEiMq%2BJqP7DH9p/Bjxx4Gufim3/AAlfjH4rL8QR4x/sQEWuq2mqWl7o6vbGb99DaQ6bplmyeapnitG5i8zCcv4h/ah/aT8R%2BN/gH4l%2BD3izwI3hX43X%2Bn3cfhDWPAl7Jq2naJ/ZD6nqF02ox6skO5VRIUP2Mqst5ArBxknm/wBmf9vD9o349/tB618GLnT/AArYPc6D4uuNFiu/BWqWcekXmlatDp9oq6hNdG28TQyLMZJ5NOEQtWjWOQq8yCgD0bR/2UP2h/CPgLX9O8JftBeBn8VePPEmo6z8Rdd8QfCie%2Bsr%2BS5trezjjs7EatH9kjhtbS3hCzTXQcR5cMSa4zWP%2BCVGkWej6d4E%2BG/xeh03w3c/Dzwd4M8a/wBteFxqOr6rYeG53lsZrW%2BFzCLK6YSuskrw3AysbxpE6Fmo3f8AwUC%2BLng/9jXwj8RfH7%2BF/wDhYHi74w6z8PbXU9J8H6nc6VHc2Or6va/a00q3uJ724LWukyOlpHOXlnkSMSIG3LnfEz/gpTrGgWngbwh4T%2BO3gcXmreDdZ8S%2BKfiHL8H/ABBqGnWttYX6WLxto1rei704RzGZbqe7uQlk1oySjdKBGAdnq3/BJL9mfUfjfD8ToNU8Zx%2BH7rwV420DxH4Jm%2BJXiOaz1JvEtzYz3s0YfUtloh%2Bz3ZeCGNVklu4p8pLZwMM%2BH/gk38PvDo8eX/gf4reIW1DxJ4/8M%2BL/AArL421vV/E0GhX2iRWS26yx6jqUjXiu9q%2B9g8EvkzLEsi%2BRC6db8XPjD%2B074U/au%2BFfw6%2BHnxE%2BHereFfiNrVzLcaJJ4FvW1Kw0Gy00z3l%2BNRTVvJkzdPZQIfsYUHUYgd2wszPBfxi/apl/aF8Vfs1%2BJvGvw61nUbT4eHxBba94c8E6hHB4Vu5bkw2dnqNu%2BpStf%2BegmlTy5LR2Wxm%2BRBIjAA5dv%2BCb/wATNE0xPEvw6/aa07RPHepp4ug8WeIP%2BEAM2n3Vt4ivLe7uxZWAv0NlLDNaQNBJJPcBSZmmScysR6t4W/ZK8OeEPi78P/Hel%2BIn/sH4X/DW48J%2BDPDElpn7K07WayXrz7/3kn2exggQbAUV5zuPmlR5d8Ff2oP2l/jf8H/HviG2%2BJnw88J3Hw88czWGqeNvGvws1jS7WbSItJtr6WefQr3VLe90yRJbgpuubkK8MH2lFMc0dcvc/t%2B/tGNafCDxr43tdD%2BGPhLxf8NIPEPjPxFr/wAJNf1yxsb6S6t40tpLy2uraLRopIZHlWS/%2B4NoflWBAPS/FX7CWq/Hj4l3vi39rT4jaH4o0Q%2BCta8Kab4e8G%2BF7zw27abqd1ZT3AvLyPU5555ALCBVMJtkBaZihLL5eR4B/wCCT/7PvhfU/F954n8a/EjW01/4lReMdCnb4v8AiqC/0O5j0SHSAqXy6qbiWRohdbpi6l47lIWDLbxEdzafF344ab%2B3u/wD8SXvhS48Dax8N7zxF4ejsdFuYtWtJ7S7061kW4uWumhnR2vJWVUgjKBEy7kmvO/CX7cfxD%2BHfxc%2BJvw//aE1DTdc07wJ4XtdThv9A%2BGmq%2BGbq5vZ76Wzh0yzttTu5zrJnkWKOG7tGEDTSLFktIuAD0r9mv8AZq039jz9iHw1%2BzFpfjDUPEEXgnwIulNrWp3NxJJevFblXlAuJ53hjZslIBIyQoVjjwiKBH44/wCUhfwv/wCyM%2BPP/Tt4QrK/ZK%2BN/wAZvj7%2By54n8W/H/wAPeH9J8VaZ4m8VaDqWn%2BGPONnB/Z%2BoXVoiK8rs0rBIVDS/KJGBdUjDBF1fHH/KQv4X/wDZGfHn/p28IUAezUUUUAFFFc78V/iv4B%2BCPgK9%2BJnxN1xtP0eweCOaaKzmuZZJZpkgggiggR5Z5pZpY4o4o0aSSSRERWZgCAdFRXndl%2B1b8BL74F3X7SKeOmh8IWMk8N9e3mkXdvc21zDcm0ktJLKWJbpLoXKmD7K0QmMuIwhchTlS/tt/s/p4Bi%2BI1rd%2BML2yk1ebS5tO0z4Ya/d6rZXcSCSSK602Gxa9tCsZRyZ4UGySNs4kQsAes14z%2Bwf/AMkQ1z/ss3xH/wDU11uvUfAvjjwj8TfBWkfEf4f%2BIbXV9C1/TINR0bVbGUPDeWs0ayRTIw6qyMrA%2Bhry79g//kiGuf8AZZviP/6mut0AezUUUUAFFFFABRRRQAUUUjukaGSRwqqMszHAA9aAForwP41/8FPv2GPgNfnQPF37QGkajrRk8qPw/wCFt%2BrXzy9ozFaCTy3PpIVrgx/wUs%2BOvxHOz9mb/gmT8XvEit/qL7xmlt4Xs5h/eSa5Z9y%2B%2BBXm1M4y2lNw9opSXSN5v7oKX42PIrZ9lFGo6ftVKS%2BzBOb%2B6Cnb5tH1xRXyS3xj/wCCynjBSnhv9jX4UeDmkGEfxZ8QpNQERPdhZKCwHtUSfsS/t9fGlxeftP8A/BSHXdCtn5Phz4J6THoqW5/2b%2BQNPIPZ17e9Z/2pUqaUMPUk/NKC%2B%2BbX/pLM/wC2atXTDYWrN%2BcVTX31Gvwiz67rF8a/Ej4d/DbTW1n4i%2BPdF0CzRCz3etapDaxqo6ktKygCvmQ/8Eg/hrqA2eLv2x/2jdfRv9ZHrPxZldZB3DbIl4NaPhz/AII/f8E1fh1I3ivWvgFYarcQkSXWq%2BMdevL8Pj%2BKQXMzRY/4Dih4jOJL3aEI%2Bcql/wD0mH6oaxHENZ8tPCwi3/NV5vwp0236XDxh/wAFh/2JdI19/CHwy8TeIvibrUXMmlfDHwvc6s4X%2B8JFVYWHH8MhrNb/AIKZ/GfxQNnwo/4Jc/Hq/kfiA%2BKtEt9Djc9iXmkfaPciu41X9tj/AIJtfsuaJ/wilr8evhj4Zs7X/mB%2BGby1Yw4/6drIMy/981xD/wDBZn9ljxI5h%2BBXw/8Air8UJCdsa%2BAvhvezhz7G4EP5151XHSjK1bHwi/5YRi3%2BLnL/AMl%2BR9jl/hd4s5xR9vTw1aNN/ajhuSmv%2B4uJlTj820uo1fi9/wAFl/iIftHg79kT4RfD2I8rD4/8dz6rJj3OmqADTv8AhG/%2BC3%2Bs/LqPxJ/Zt0YN1bSNH1q4K/QTnn8aT/htj/goN8RPk%2BCv/BLfXLK3k%2B5qnxG8c2Wk%2BV6FrXDSn6A5FH/CKf8ABaX4m/8AIa%2BK/wAEPhjayfcPh3Q73Wb6Ef7X2siFmHtxWfPTq/BPE1H5JwX4wpo7v%2BIQZlQ1zXOaOH7qeOpOX/gvC08RK/ldMUfs6f8ABXTXP3mqf8FHPBuhk9Y9F%2BENtdKPxuJAajvP2Rv%2BCmy27XXiL/gsObe2UZlNv8DdFgCj/roZeKeP%2BCbHx68e/vf2gv8AgqD8ZtaduZYPBNxbeGbeT1Bit0kG32zUtp/wRV/YJvLlNQ%2BJHg7xT43u0ORd%2BL/HepXLk%2BpCTIp/EUfUcZU%2BGjNf48TJfhC/5j/1B8McL/vmf4iq%2BqoUsVJfKVevh4v15F6HnHjH4feKfBKvN8VP%2BC/r6XKn3lcaDY8%2Bgj83JPsOa8l8WftC/ALw5c/2Vr3/AAX6%2BI%2BpMx2i38L%2BFTcSSH0WW1tpFH519w%2BD/wDgmf8A8E//AAKyPoH7IHgJnj%2B5JqXh%2BK9ZT67rkOc%2B/WvWfCfw98A%2BArb7F4G8D6PosOMeVpOmRWy49MRqBR/YeOqbuEf%2B368/zqQQv7D8FsLtRzHEP%2B9iKVBP/wABdeX3n5XDxx8FPEJ%2B2eHv2xf%2BCh3i2Q/duvCIuYoG%2BiNbr1oMXinxB/xL9Cf/AIKeaxA3SK9mSwhl9mnYE49Riv1poo/1ZlL4q1vSL/Wsw5PCSl/D4dlL/r5mOMd/VU1BP8D8lv8Ahkbx94x/fL/wS5%2BPfjFm/wCXj4g/tJRadI/%2B8MjFTWf/AAS/%2BIOtS%2Bbp/wDwRs8CaRO3/Lz4w/aG1PUcf7y21wAfwFfrHRT/ANUsC/jm3/27T/WEn%2BILHeH9J/ueFcBfvU%2BtVn8/aYpJ/cflm3/BGn9o/wAT2v2af9mL9k/w1bN90W9z4ou7pPq7ThT%2BBqnp/wDwbseP9QvzqGofFf4Z%2BHnbr/Y3gq%2B1FF%2Bkd7elD%2BIr9WKKp8H5HJ%2B/By9Xb/0mMS3xHlkHehkWWU7bWy/Dyt/4NlVv80z84dG/4N6vD72y2vjT9p2xvFAwx0j4NaFYsfoxSQj8zXSeE/8Ag3g/ZG8N339rSfGj4pfamxvOl6xYafG3/AbezUj/AL6r76orohwrw/B3%2Brp%2Brk//AG46IcdcQUP92jh6P/XrB4Gn93Lgm18mvU%2BR7X/giX%2Bw3cQLaeNrPx14phUYMOv/ABC1F0P4Qyx10ei/8Eev%2BCamgRrHY/snaDIF6G9vby5P4maZifxr6VorsjkmTQ1WHh/4Cn%2Bdzqq%2BJ/iPVp%2BzecYlRX2Y1pwj8o03TivlFHiGlf8ABNP/AIJ/aPj7J%2Bxx8O3x0%2B1eF7ef/wBGK2a37T9iD9i2wUJY/shfC%2BEDoIvAGnLj8oa9Qorojl%2BXw%2BGjBf8Abkf/AJE8etxhxdiHermWIl64iu//AHMcTon7NH7OPhpxJ4c/Z/8ABOnsDkNY%2BFLOI/8AjsYrrtO0rS9IgFrpOm29rEOkdvCqL%2BSgVYorohSpU/gil6JL8kjyMTmGPxrvia06n%2BKc5f8ApUpBXjP7L/8AyW/9o7/ss1j/AOoV4Xr2avGf2X/%2BS3/tHf8AZZrH/wBQrwvWhyHs1FFFABRRRQAUUUUAFFFFABRRRQAUUUUAFFFFABRRRQAUUUUAFFFFABRRRQAV8Gf8FLdU/sL/AIKsfsQapu27tU8Y2uf%2Bu40SLH/j1fedfnX/AMFjb2XSP%2BChH7EuvJwlp491H7Q392J9U8ORsf8Ax%2BvMziXJls5duV/%2BT0z7jw3oLE8aYWg/tqvH78Li/wDJH6KUUUV6Z8OFFFFABRRRQAUUUUAFFFFABRRRQAUUUUAZXgb/AJEnR/8AsF2//ota1ayh4M0NMrA19CmSRFb6tcxovsqrIFUewAFL/wAIfpP/AD96r/4PLv8A%2BO0AalFZf/CH6T/z96r/AODy7/8AjtH/AAh%2Bk/8AP3qv/g8u/wD47QB4f4g/4Jp/s%2BeJfEfxm8S6hq/iYS/G3Traz1y3TUYfJ0QRKS0mmoYSIGmnIuZhL5qSzKpZSvyF/gr/AIJ3fDnwt4uj%2BIXiD4xePvFPiA/E6Tx3eax4gvdP8y71NvCs/hfy2S1soYktxYTlljiSPEyI2dm6Nvbf%2BEP0n/n71X/weXf/AMdo/wCEP0n/AJ%2B9V/8AB5d//HaAPnL/AIdSfBiz8L6B4B8OfGf4kaR4d0ix8IQ6poOnanp4g8QTeGmtTpl3eM9i0om22Vskv2d4I5UiUMnyrj6B1j4daR4t8D678OviFfXPiPSfEUN9bala6pHCoayug6vZjyI4wYljcxqWzIVA3u7ZY3P%2BEP0n/n71X/weXf8A8do/4Q/Sf%2BfvVf8AweXf/wAdoA8z%2BB37Hul/AuTUtZ0745%2BO/EGv6pDotjdeKPE0%2Bmz3x0jSpJXtNJHl2UcX2YfaLsM5jNyxvJnM/mFZFzvhL%2BxNcfB7x34/8f6D%2B1X8S766%2BIuoXt/rMerQeH5Tb3Uy%2BXBJDOukrcbbSIJFbQyyyQxogDRvzn13/hD9J/5%2B9V/8Hl3/APHaP%2BEP0n/n71X/AMHl3/8AHaAPKvDn7HOoeF18T%2BI9P/aq%2BJT%2BNvFradHqvxFni0FtTFnY%2Bd9mso4P7K/s9IFNzctj7JvLXDsXztK89rX/AATX%2BF194K0rw1oHxj%2BIeg6rZQ%2BIoNW8Y6PqdiNV12DXrpbzWIrpprOSFRc3McUu63igeBokFu0CjbXu3/CH6T/z96r/AODy7/8AjtH/AAh%2Bk/8AP3qv/g8u/wD47QByeifs1/Dbw78WvDvxc0eO8gn8I%2BA5fCPhfRkkT7BpenzTW0sxiTZvEkn2KzRmLkbLZAFB3FuG%2BF37AXgf4SeJoPEfhj4z%2BPJY9D0bWdN8AaXf3Gmy23g2LU5kmuGsR9iDzMGiiEZvnuxGibANrOrey/8ACH6T/wA/eq/%2BDy7/APjtH/CH6T/z96r/AODy7/8AjtAHhngX/gnd4f8ABPwaX4QT/tL/ABK1iWw8d3PjHwx4s1RNBXVPD2r3F3c3dxNa/Z9Kit3WWW9u9yXEEy7Ll4wAm1Vi1j/gmp8Kr3wTY%2BEvD/xe8f6DeppviHT/ABF4m0m%2B0/8AtHxJa67fHUNWjvGmspI18%2B7LTB7aOB4C7LA0KMVr3j/hD9J/5%2B9V/wDB5d//AB2j/hD9J/5%2B9V/8Hl3/APHaAOW8O/s4/Dvwt8YrL40aQb5b3SPAMXhDQdLeZDZ6Vpy3Anl8hdnmCSYx2qyMzsGWxt8KpVi/B/A79hi/%2BAmmeMNP8L/tf/FPUJfGl7eajqGo6xb%2BHJLuHU7iVHOoLOmjo80saRpBGlwZoUgRIhFsjjCey/8ACH6T/wA/eq/%2BDy7/APjtH/CH6T/z96r/AODy7/8AjtAHgHjz/gmj4R%2BI3gPUvCHib9pn4nyaj4h8c2Hijxd4n36G114hmsraO3tLK7tn0trBrKMQ27/Z0tUV3gVpN5aTf1nxf/Y8vvjt4Aj%2BFHxM/al%2BJF74ZvdBfR/GWiwx6FBH4stJCwmS9eLS1li82N2hf7E9qDGcAA/NXqf/AAh%2Bk/8AP3qv/g8u/wD47R/wh%2Bk/8/eq/wDg8u//AI7QB5vq/wCyjdat%2B1tp/wC1t/w0d49t7nTdBm0W38FQW%2Bif2KbGZoJJoSX01r075raGYt9qDh1KqyxkxnI0z9gb4Va/rOpa5%2B0r4s1n43yahoMeipafFjSdGu7O2sEuo7wwraWmn21vIWuILeUyTRySbraIhxtr1/8A4Q/Sf%2BfvVf8AweXf/wAdo/4Q/Sf%2BfvVf/B5d/wDx2gDzH4Jfsg/AT9jP4M%2BMvAn7PvgPTtA0zXtX1nxBe22n6Xa2qC4vHklMarbRRL5USssMSkEpFFGm47c1H44/5SF/C/8A7Iz48/8ATt4Qr1E%2BDNDfCztfTJkExXGrXMiN7MrSFWHsQRXl3jj/AJSF/C//ALIz48/9O3hCgD2aiiigAryD9tf4b%2BPviH8J9Ivvhl4ZbXdY8J%2BP/DvieHw6l3DA%2BrRafqdvcT20ck7pEsxhSQxea6RmVYw7opLr6/RQB8n%2BFfgT478T/s7fFDw98ZP2fvGdtd%2BO/G95440/QPDmv6MupaXcJfwSadbwzte/Zl1KI2Freks5tBLJs86UBs8L4e%2BG/wC3x8Cfgn4%2B1j4Z/DL4geIPGXxu%2BLw1TWNR1LX/AAxN4g8HaMuiadpj30iG6tNLnv2XSwYYLZjbwm5h3iVbd0l%2B6qKAPO/hb8KrLw3%2BzB4b%2BDPw1tfEvwytdL8J2Wl6NbiXT7vVdBihhSOONnk%2B22k0yKgVnPnoxyctndXH/wDBOnSb/Qf2br7RNV8T32t3Nn8W/iHDcaxqccCXN86%2BM9aBmlW3iihDuRuIjjRMk7VUYA90rxn9g/8A5Ihrn/ZZviP/AOprrdAHs1FFFABRRXO/E/4ufC74KeFJvHPxd%2BIOj%2BGtIg/1mo61qEdvFnHCguRuY9lGSegBqZzhTi5Sdkur0X4kTqQpQc5tJLdt2S9W7I6KvLf2nP2zv2c/2QvD8WtfHD4h29hdXnGk6DaKbjUtTcnaEt7aPMkmWwu7AQEjcwrwK9/bC/at/byvJvCP/BOzwefCfgcytDf/AB38b6WyxSqDhjpNjIA1y3XEkgCAgqwQ4avUv2Yf%2BCdHwF/Zv8Qy/FPUP7S8d/Ee9O/VfiP44uTfanNIRg%2BUz5W2TqAIwG24VmbFeT9fxOO0wMVy/wDPyV%2BX/t1aOfr7sP7zPD/tPF5i%2BXLYJx/5%2Bzvyf9uR0lU9fdh/ekedj9o7/gpp%2B1NiH9mj9lvT/hF4auPueM/jLKTqLxn%2BKLSoMtFIBgjziyHPUVKn/BKW7%2BLzi/8A25f2xfiR8WS5zceHodR/sLQXPcfYrMj6ZEg47V9eV4V%2B0h/wUa/ZZ/Zm1lfA3iTxlP4i8Zzv5dj4C8FWZ1TWbiXtH5ERxEx7eayZ7ZrLEYHA0aftcxrOa/vytH0UI2i/S02/M9fJuBcy4oxqwtKnVxtV68qTcUlu3Thy04xXWVSXKl8Ukdr8E/2U/wBmz9nCxFj8DPgh4a8MfJse60vSo1uZR/00nIMsn1ZjXoFfHqeJf%2BCrf7XbhvCXhrQ/2b/Bs5yupa/EmteKLiPsy23EFtkZysmJEOME1bb/AIJM6R46Uv8AtH/tq/HD4grIMXOlXfjU2GmSA9R9mtkG0HocP0q6WMq8ijgsK%2BTo3y0o/JNc1v8AtxH6NT4F4cyKmqObZtQoSW9LDwlipR8m6PJh4y8vbTt9pnpvx4/4KJ/sV/s2XD6Z8WP2hdAttTjfYdD02dtQvw%2BcBTbWokkQk8DcoHvXmDf8FPviT8TVNv8Asof8E8/i740Mgxa6v4j06Lw7pUxPRlubpmyvrlRXs/wG/Ym/ZN/ZjhjX4GfAPw5oFxGu0anDYia%2BYejXU2%2BZh9XNepVp7DOK/wDErRprtCPM/wDwKf6QNHmvhvlWmDy6tjJL7eJreyg/%2B4GFV7eUsQ33Z8hr8Hv%2BCs/7RTC4%2BLf7SPhD4K6JKcnQPhpo/wDaepsn9yW9ujticf34cjjpzVrT/wDgjb%2Byxr15HrP7RHjH4j/F7UI23i5%2BIvjy7uUV/VY4GiUL6KdwA45r6yooWS4CetdOq%2B85OX4XUV8oil4ncWUFyZVOGBh/LhaUKDt51FGdeXm5V7vr2PMfht%2BxV%2ByH8HxG/wANP2Z/A%2BjzR423lr4ZtvtHHTMzIZG/FjXpqIkSCONAqqMKqjAA9KWivRpUKFCPLSiorskl%2BSR8Zj80zPNa3tsdXnWn3qTnN/fOUn%2BKCiiitThCiiigAooooAKKKKACiiigAooooAKKKKACiiigAooooAKKKKACvGf2X/8Akt/7R3/ZZrH/ANQrwvXs1eM/sv8A/Jb/ANo7/ss1j/6hXhegD2aiiigAooooAKKKKACiiigAooooAKKKKACiiigAooooAKKKKACiiigAorA%2BKXxN8JfBvwFqPxL8dPqS6VpUaPdnSNCu9TuSGdY1EdrZxSzzMWZRtjjY85xgE1lRftDfBqX9n%2B3/AGpW8cwReArrwrD4kg8Q3NvLEjaZLbrcRzmN0EoLRMpEZQSZYLt3cUAdpX5y/wDBcr/QPjn8A/F44/4R6LVdR3f3dviLwemf/IlfdnwZ%2BOfw0%2BP3hq68VfDLVb6aHT9Tk07VLPV9CvNLvtPu0RHaC5s76KG4tpPLkikCyxqWjljcZV1Y/C//AAXztpj4f0zWbRMz6T8JfEV9B7FPFvgTJ/75LV5We/8AImxD7Qb%2B6z/Q%2B/8AClr/AIiXk8H9vEU4f%2BDHKn/7kP0WoqO0uYb21ivLdt0c0aujeoIyKkr1T4Fpp2YUUUUCCiiigAooooAKKKKACiiigAooooAKKKKACiiigAooooAKKKKACiiigAooooAKKKKACiiigAooooAKKKKACiiigArxnxx/ykL%2BF/8A2Rnx5/6dvCFezV4z44/5SF/C/wD7Iz48/wDTt4QoA9mooooAKKKKACiiigArxn9g/wD5Ihrn/ZZviP8A%2BprrdezV4z%2Bwf/yRDXP%2ByzfEf/1NdboA9moorzr9rX9onw1%2Byh%2Bzn4t%2BP/ikJJD4d0l5rW0d9v2u7YiO3twfWSZo0z23Z7VnWq06FKVWo7Rim2%2BySuzKvXpYahKtVdoxTbfZJXf4I83/AG7f2wfFvwin0b9mz9mjSIfEHxq%2BIAaHwppLYaHSLfkS6tecEJBEAxG4YdkPBCvWJ8I/%2BCUPwTsNes/iv%2B1f4l1n42%2BP0iVp9b%2BIF4bqxtZDgslpYn9zFFuGVVlcrjgjpWn/AME8P2U/EXwy8OXv7Tv7Qt5JrHxm%2BJ1vFqHjHVbyLa2lwuqvFpNuvPkwwrsUqvVk7qiBfpK4uILSB7q6nSKKJC8kkjBVRQMkkngADvXkYfB/2g/rWNje%2BsIPVQW6bWzm922ny6RVrNvwsJl7zaaxmYQvezp03qoLo3HZ1JXTk2pcukI7NtLOztNPtIrCwtY4III1jhhhQKkaAYCqBwABwAK%2Bf/2j/wDgpL8AvgN4qHwh8Kxan8RviTcMY7L4eeArb7df%2BZ/08FMpaqMgsZDuCncEYCvK/iD8evjH/wAFK/G%2Bo/s9fsV%2BKrvwz8KdLujZ/ET412YKyagR/rNN0Zv42I4e4HAByDtK%2Bd9Ifs2/sj/s8/sk%2BE/%2BER%2BAvwzsNEjlVft%2BoKnm3t%2Bw/juLh8ySnOThjgZO0AcVX1vFZhJxwVo01p7Rq9%2B/s46KVtuZvlvspWufti4c4f4Nowq8TRnVxUkpRwdOSpuEWk4vFVbSlSck01Qpxdfls6kqPNGJ4B/woj/go5%2B2p/pX7TfxbT4H%2BBrnk/D34ZXwm1u5iP8AyzvNVIKxnBIIhBVgcMoNe7/s3fsY/szfslaO2l/Af4S6Zo08ybb3V2Qz6hedyZrqUtLJk87S20E8AV6hRXRh8rwtCp7WV51P55vml8ukV5RUV6nj5zx1nubYJ5fSccNg/wDnxQj7Kk7bOdm51pL%2BavUqy6pRCiiivRPjQooooAKKKKACiiigAooooAKKKKACiiigAooooAKKKKACiiigAooooAKKKKACiiigAooooAK8Z/Zf/wCS3/tHf9lmsf8A1CvC9ezV4z%2By/wD8lv8A2jv%2ByzWP/qFeF6APZqKKKACiiigAooooAKKKKACiiigAooooAKKKKACiiigAooooAKKKKAOc%2BLmteIPD/wANNa1Xwr8PNX8V6iliy2nh7Qbiyiu7xnwm2N764t7dSAxY%2BZKgwpwScKflnwX8Hv2jPGH/AASp8G/swaz%2Bztrvhfxx4N%2BHfheJtL8Ra1o722oalocthIbET2N9cqEuWsiqyMAojlBk2NlK%2ByaKAPFP2Q/BXxLtPFfxY%2BNfxN%2BHF94Nm%2BJHjy21TS/Cmq31ncXtjaWuiaZpivdNYzz2/nSSWUsmIppAImhBbcGVflj/AIK%2BfDLxImr%2BKNV1f4s%2BIdes9T/Z28c3dhoGqWunJaaILfXPBspW2a2tIp3VtoLfaJZyNg2lfmz%2BiVfHf/BTvRf%2BEg8QanpYTcz/ALJfxYeNfV0uPCzr%2BqiuHNIe0yyvHvCf/pMj6rgXE/U%2BN8qr/wAuJw7/APK9L/M%2Bm/gdrX/CR/BXwf4h37vt/hbT7nd677aNs/rXU15V%2BwprP/CQ/sTfCDWi%2B5rj4Y6C8h/2/wCz4N365r1WtsJP2mFpz7xi/vjF/qeXxBhvqWf4zD/yVqsf/AatWP8A7aFFFFdB5IUUUUAFFFFABRRRQAUUUUAFFFFABRRRQAUUUUAFFFFABRRRQAUUUUAFFFFABRRRQAUUUUAFFFFABRRRQAUUUUAFeM%2BOP%2BUhfwv/AOyM%2BPP/AE7eEK9mrxnxx/ykL%2BF//ZGfHn/p28IUAezUUUUAFcd8ePjZ4a/Z%2B%2BHUvxE8TaRqeqbtSsdM0zRdEhjkvdU1C9uorS0tIFlkjj8ySeaNd0jpGgJd3RFZh2NeX/tb/Bvxn8Z/hhYWPw1vNMi8TeGvGGi%2BJdAj1ueSKyurjT7%2BG5NrPJFHI8STRpJD5qxyGIyCQJJs2MAZsP7bHwyX9nfVf2hdW8J%2BJdPXRNfbw/qvg%2B6s7dtYg1v%2B0E06PTNkU7wNNLdSwxxusxgcTxyCXy231j3P7fvg%2BPQ4bSy%2BB3j288cyeNZvCsvwrtU0k65balFpq6rIsjtqAsFjGnvDdeb9rKFLiFQxlkWM4/g79mD4rr8CfiL4H%2BLnwz8BeJ9T%2BI2uah4m1XRR4zv7fT01Ge4TyLFLpNP8%2BKOC3t7QrqCRib7QjSLbxYXHn3wy/wCCffx1%2BBc9l8ePhjZeEbn4hyfFHUvFOseE9f8AH%2Br3emSWt5oNvoptf7bubS4vridUsbK6N1NbEySefHsjR0aMA%2Br/AIPfFbwd8dPhX4e%2BMfw%2Bu5ptF8TaRBqOmtcwGKVY5UDBJI25jkXJV0PKsrKeQa89/YP/AOSIa5/2Wb4j/wDqa63Wj8Av2aIvhj%2ByV4d/Zp8a%2BKL29mstBW213V/Duq3ekyT3bsZbmW2mtpY7i2UzPIU2SB1QgFjyTgf8E6fD1h4S/ZuvvC2lXF9Lbad8W/iHbW8up6pPe3LonjPWlBluLh3mncgcySOzsclmJJNAHulfG/7UP/GZf/BQTwF%2BxtZf6R4O%2BFixePPigo5invB8ulafJ2JJbzmjbIeN89Vr6p%2BKnxG8O/CD4ZeIfiv4tn8vS/DWiXWp6g4OD5METSsB7kKQPcivnn/gk38MvEdn%2Bz/fftSfFCIN44%2BOOsyeL9flIP7m1mz9gtUJ58qO3KsoP3fOYdAK8jMf9qxFLBLaXvz/AMEWrL/t6fKvRM8LNf8AbcVRy5bS9%2Bp/gg1Zf9vz5Y%2BkZH1LXxX%2B0b8QfGn/AAUX%2BNepfsI/s9eI7nTfhx4cnWP45/EHTXwZuedBs5OhlfBEzDIUZU5AZJO1/wCCiP7RHxD0w6B%2Bxb%2BzFf4%2BLHxV329lexk48NaOMi71aUrygRA6xnglwxXLJtPsH7MX7Nvw0/ZN%2BC2jfBD4VaWINO0qD/SLqRR5%2BoXTAebdTt/HLI3JPQDCjCqoEYpyzPEywcHanH%2BI11b1VNPzWs3uotR0cnb9qyOFDgfJaXEWJipY2vf6nCSTVNRbjLGTi735ZpwwsWrSqxlWalGjBS6T4cfDjwN8IvA2l/DT4aeGLTRtC0a0W203TbGLZHDGvYdySckscliSSSSTW3RRXsRjGEVGKslsj83r162JrSrVpOU5NuUm22222222222222223dhRRRVGQUUUUAFFFFABRRRQAUUUUAFFFFABRRRQAUUUUAFFFFABRRRQAUUUUAFFFFABRRRQAUUUUAFFFFABXjP7L/8AyW/9o7/ss1j/AOoV4Xr2avGf2X/%2BS3/tHf8AZZrH/wBQrwvQB7NRRRQAUUUUAFFFFABRRRQAUUUUAFFFFABRRRQAUUUUAFFFFABRRRQAUUUUAFfM/wC2Hov/AAkf7RGleHtm77f%2BzP8AFC22%2Bu%2B78KLj9a%2BmK8Q%2BKOmxax%2B3p8OdIn%2B5dfBDx/C%2BfRtU8Iqf51nVh7SlKHdNfemv1OrAYh4PHUcQvsThL/wGUZf%2B2mZ/wSo1n%2B3v%2BCdXwhvt%2B7y/B0Fvn/rizQ4/8cr6Cr5U/wCCJepTah/wTJ%2BGsN1xNZLq1pMp/hMWrXiAf98ha%2Bq64cmn7TKMPLvTh/6Sv8j6vxKw6wniLnNFfZxWIX/lao/1CiiivSPigooooAKKKKACiiigAooooAKKKKACiiigAooooAKKKKACiiigAooooAKKKKACiiigAooooAKKKKACiiigAooooAK8Z8cf8pC/hf8A9kZ8ef8Ap28IV7NXjPjj/lIX8L/%2ByM%2BPP/Tt4QoA9mooooAKKKKACiiigArxn9g//kiGuf8AZZviP/6mut17NXjP7B//ACRDXP8Ass3xH/8AU11ugDzD/grrrWq%2BNfhP4K/Y08JX0kOsfG/x5Y6BM8BxJBpMUi3N/cD1VERAw/uyGvoL4o/EH4f/ALMHwG1n4i61Cll4c8EeG5Lj7NDhdsFvF8kEYP8AEdqxqO5IFfOfgn/jJb/gr14m8bN%2B/wDD/wCz94Ii0LTG6p/b2qgy3MqH%2B8tsDC4HQgZ92/8ABSSeb9pD4y/Cn/gnJokzPa%2BMtYXxP8Slib/VeG9OkEnlPj7ouLhVRW7PEPWvm3ip044nGwV5SkqVNd3F8q%2BTqSk35QZ2%2BG2RUOK%2BMZzxUnHDKT9pJfZw2Fi515LzbU4x7zlTXY2P%2BCafwQ8Y6hpGrft4/tBxrN8TPjFBFftEQSvh/QyA9lpkG7lFEflu/Qs20Nlk3H6ppsEENtCltbQrHHGoWONFAVVAwAAOgp1e1gsJDBYaNKLvbd9XJ6yk/Nu7f3bJHo8T5/ieJ87q5hWioqTShBfDTpxXLSpQXSFOmowXezk7ynJsooorqPBCiiigAooooAKKKKACiiigAooooAKKKKACiiigAooooAKKKKACiiigAooooAKKKKACiiigAooooAKKKKACvGf2X/8Akt/7R3/ZZrH/ANQrwvXs1eM/sv8A/Jb/ANo7/ss1j/6hXhegD2aiiigAooooAKKKKACiiigAooooAKKKKACiiigAooooAKKKKACiiigDnfi58UvBvwP%2BFviL4x/EO/e10LwtotzqmrTxQtLItvBE0j7EXLSOQpCooLMxAAJIriPh3%2B2B4I8YeCfHPi3xt4E8UeA7z4bRNP408N%2BLba1e/wBPt/sS3yXAFhcXUM0bwNuUxSudySRkLJG6DZ/ar%2BCt1%2B0Z%2Bzd42%2BB2na9HpV54n8OXVjp2pzQmWO0umQmCZ0BBdFlCMyAgsoIyM5ryvwp%2Bz5%2B1brcPxd8X%2BOdT8I%2BEPF/xZ0E6Vb3/AIP8R3eox%2BFFtdMNtYXELXFjbm9lNzPdXD7lgEa%2BTGPNKs5AO7/Zp/a68L/tK6prHhyy%2BGfirwlq2jaNpOsS6X4qWwZ59N1NbhrK7jksLu6hKyfZbgeW0iyp5eXjUOhal44/5SF/C/8A7Iz48/8ATt4QrjP%2BCf8A%2Bxx4t/Zb8ReLdd1D4Y/Dn4eaRr2g6Dp9t4D%2BFmoXFzpjX1iLwXOtSvNZ2mLu7S4tonAiZtmnxGSaZiNmlf8Awx8N%2BDv%2BCm3gvxnpOpeIZrzxD8HvHEl/Dqvi7Ub60iKat4SwLa1uZ5ILIHccrbpGGwNwO1cAHJf8EYv9A/ZF1Twh0/4R/wCJ/iXTtv8Ad237vj/yJX1pXyX/AMEmf%2BJbpX7QHhBuP7G/ac8VwRL/ANMma3dD%2BO419aV5ORaZRRXZW%2B6U1%2Bh%2BgeKvveImZVP56in/AODKWHqf%2B5Aooor1j8/CiiigAooooAKKKKACiiigAooooAKKKKACiiigAooooAKKKKACiiigAooooAKKKKACiiigAooooAKKKKACiiigArxnxx/ykL%2BF/wD2Rnx5/wCnbwhXs1eM%2BOP%2BUhfwv/7Iz48/9O3hCgD2aiiigAoorjvjx8bPDX7P3w6l%2BInibSNT1TdqVjpmmaLokMcl7qmoXt1FaWlpAsskcfmSTzRrukdI0BLu6IrMADsaK8c/4bc%2BF1r%2BzZr37SuveF/Eel23hjU7jSdf8K3trb/2tZarDeCzNgyxztbmRp2jVJBOYGWVJfN8tt9c3/w8Y8Fy2kOjWPwB%2BIdx41k8cXnhST4coNGXU4b%2B10xNVmLXD6kunNGtlLDLuS7YnzAgHmK6IAfQ9eHfsW6zY%2BHP2dPFPiHU5NltYfFv4l3Fw/8AdRPGeuMx/IGvS/gt8WvB/wAfPhB4W%2BOHw%2BluX0Lxh4fs9Z0d7y2MMptrmFZo96HlW2uMjse5618v6p44/wCFcf8ABK747eMEm8uW28S/FxLV842zy%2BLNeiiP/fx1rHE1lh8POq/spv7k3%2Bhz4uusLhKlZ/YjKX3Rb/Q0/wDgjbos5/Yv/wCGhPGEiLr/AMV/Fes%2BMfE1zIcASzXckajceiCKFGA6Dc1Uv%2BCadtcftE/FP4qf8FG9ft3aHx5rbeH/AIdecpBg8Nac5iR0zyvnzozuv9%2BLPeqPxK8VS/sg/wDBDu2mtS0Gp2fwZ03SrURj5xqN/bQ225B1LCa5L4/2fY19GfsmfB2L9n79mTwF8FlgWOXw34UsrK82/wAdysK%2Be/1aUu3/AAKvn8BRcquFw8tqVNTf%2BOeib89akvV3PuOE6L4b8IKmJWlbGzp4ZPr7KnCGJxNv8dWdCEn1Sa6s9Cooor6Y%2BPCiiigAooooAKKKKACiiigAooooAKKKKACiiigAooooAKKKKACiiigAooooAKKKKACiiigAooooAKKKKACiiigArxn9l/8A5Lf%2B0d/2Wax/9QrwvXs1eM/sv/8AJb/2jv8Ass1j/wCoV4XoA9mooooAKKKKACiiigAooooAKKKKACiiigAooooAKKKKACiiigAooooAKKKKACvGfHH/ACkL%2BF//AGRnx5/6dvCFezV83/Gz4h2/hD/gqZ%2Bz74SupAB4r%2BFHxIsLdTjmaK68K3YI/wC2dvLx7%2B1TOcacby8vxdvzZFSpGlHmltovvaS/Fo5v/gnJ/wASj9pD9qnwh08j4y/2js9PtdnG%2Bfx2V9aV8l/san%2Bx/wDgpf8AtceFzwj3vgzUYB/e87SZN5/76AFfWleXkumA5e06i%2B6pP/M/Q/E33%2BK/bf8APzD4Of8A4FgsM/8A20KKKK9Y/PwooooAKKKKACiiigAooooAKKKKACiiigAooooAKKKKACiiigAooooAKKKKACiiigAooooAKKKKACiiigAooooAK8Z8cf8AKQv4X/8AZGfHn/p28IV7NXjPjj/lIX8L/wDsjPjz/wBO3hCgD2aiiigAry/9rf4N%2BM/jP8MLCx%2BGt5pkXibw14w0XxLoEetzyRWV1caffw3JtZ5Io5HiSaNJIfNWOQxGQSBJNmxvUKKAPlPUf2QP2jPE/wCy/wDEr4Va9L4KtvEXxN8Sz%2BJtbig1y7n0yWSXUIWk0GQtZpI1lLptrFZy3gUSMbid1tkwqnzuT/gmV8Tf%2BEIg0a9%2BAnwN1bwqPidqPiRP2c9R1O4HgvTba40a3sI0t5/7JfMiXUV1f7P7PSEy6lPhVkRZ2%2B8KKAPL/gb%2Bz9rHgr9kjwp%2Bzd8V/Huqa1faR4Qs9I1nXtG12%2B0%2B5nkiiVWaG7hmS6jAK4WTzRKVA3MSWJ%2BLP2lNPTwt/wAEcfFnwV8K3t%2B0niT4%2B%2BJ/C2lTalqk99dP5nxF1P8A1lxcO807mOJw0kjs7EksxJJr9I6/OP4lf8Vjo3wA%2BCq/N/bH7b3jjWbiEf8ALW30zxf4gnkUjuv7xc/QV5Wdt/2TVivtLl/8DcY/%2B3M8TiNt5HXgt5pQ/wDA5Rh/7cz1z/go1p1n8QPiv%2Bzb%2BxbpEI%2ByeI/iTHrerWichtJ0S3NxJC/oj7kAz1KcV9gV8jfD3/i%2BH/BYzx54xP77Tfgv8MNP8O2w6omp6nIbySRT/eECmJsdOh5r65qcsSq18RiP5p8q/wANNKH/AKVzH65xsll2U5Nky09jhlWmv%2BnmLm67v5qksOvS3oFFFFeufnwUUUUAFFFFABRRRQAUUUUAFFFFABRRRQAUUUUAFFFFABRRRQAUUUUAFFFFABRRRQAUUUUAFFFFABRRRQAUUUUAFeM/sv8A/Jb/ANo7/ss1j/6hXhevZq8Z/Zf/AOS3/tHf9lmsf/UK8L0AezUUUUAFFFFABRRRQAUUUUAFFFFABRRRQAUUUUAFFFFABRRRQAUUUUAFFef/ALVfxquf2c/2b/G3xx0/QU1W88MeHLq%2B0/TJZjFHd3SofIhdwCURpSis4BKqScHGK888AftSfEn4faN8ZtJ/ajk8P6rqvwb0eHXr7WPA%2Biz6fa6npcumveLstbm6uXhmR7e7iIM7q4SOT5N5jQA%2Bg6/Pz/grB4xuvhf/AMFI/wBi74pQ7lg0vW/EtnqVwDgQWl9c%2BH7GV2/2QJwD9a%2Bgf2Cf2o/FX7S3h/UdU8e/Efwrf6sNK0vVR4Z0DwHq%2BiS6PbXqTPGTLqc7HVrZzG6Q6hBFBBObeYovVU%2BYv%2BCyXiD4bfHTxLqPgf4YfE7QNW8XfDb4IeL9c1XTdH1mC5vdCntNf8G3QNxDGxe3ZooJwBIFJAbHQ15ucc/9l1pQ3iuZf9utS/8AbWvmeRn6qf2NXlT%2BKMeZesHGf48jXzPa/gl/xJP%2BCw/xw0zp/bfwy8Najj%2B95Je3z%2BuK%2BtK%2BJT8QrXw9/wAFKfgh%2B01bso8PftB/Bl9BEnWOC9hEeqW7buxkSURKO5zX21WOTTi4VoLpUm/lPlnF/NSufq3Hso4uOUZjTd6dfA4Wz7ulGdCa9YyppP1XdBRRRXsHwAUUUUAFFFFABRRRQAUUUUAFFFFABRRRQAUUUUAFFFFABRRRQAUUUUAFFFFABRRRQAUUUUAFFFFABRRRQAUUUUAFeM%2BOP%2BUhfwv/AOyM%2BPP/AE7eEK9mrxnxx/ykL%2BF//ZGfHn/p28IUAezUUUUAFFFFABRRRQAV%2BcXwNdfHH/BQ74ReEnYNH4G8S/G7xPMhPCi78Z6xYK5%2BhXg9jX6O1%2BWX7Hvird%2B1b%2B1h8YfM/wCSU%2BFPHmk%2Bb/zxNx4y8Q6rj2z5ea8fOpqNKlF7OpFv0hzVH/6QjzcfhqmYYvA4CHxVsRRgv/A7/mon0t/wR8ik8e/Bbx1%2B1hfoTcfGH4p63r9rI4%2BZLCO4a0tofXankSYz2avrevnv/glH4V/4Q7/gnP8ACHSPL2ed4QhvsY/5%2Bne5z%2BPnZ/GvoStclg6eU0E93FN%2Bsvef4yZ%2BleJeKhi/EHNJU/gjXqU4LtTov2NNfKFGK%2B/uFFFFemfDhRRRQAUUUUAFFFFABRRRQAUUUUAFFFFABRRRQAUUUUAFFFFABRRRQAUUUUAFFFFABRRRQAUUUUAFFFFABRRRQAV4z%2By//wAlv/aO/wCyzWP/AKhXhevZq8Z/Zf8A%2BS3/ALR3/ZZrH/1CvC9AHs1FFFABRRRQAUUUUAFFFFABRRRQAUUUUAFFFFABRRRQAUUUUAFFFFAHO/Fz4WeDfjh8LPEXwb%2BIdhJdaF4p0W50rVoIZmika3niaN9jrho3AYlXUgqwBBBArgvhn%2Bx14a8B23iSPxX8WPF3jmfxsJU8c3njAaY8mvwmzisooJhaWUCRRQwRkIlusIZppnk815C1ev0UAeTfs6/si%2BF/2d9e1DxZF8T/ABd4w1a88Pab4fttS8YXNm8lho%2BntcNaWMQtLa3UojXU7GWVZJ5C48yV9q7eV/aK8C2HxQ/a%2B8JfDTVdv2XxF%2Bz38SNMudwyPLuNQ8JxNn8HNfQdeM%2BOP%2BUhfwv/AOyM%2BPP/AE7eEKmUYzi4y2en36EzhGpBwkrppp%2BjVn%2BDPiS3uPFvj7/gh58O/jZolqzeNv2efEdtqsFuTh4X0XUZLaWJiOiiz%2Bdh0IQZ6V%2BlngXxloXxF8EaP8QfC915%2Bma7pVvqOnTj/lpBNGskbfirA18kfsDeENCHjj9rH9i3xXaiXTLf4n3moPYN/Dpmv2YlWID%2B7sWTH%2B8a6T/gkB4w12T9k%2Bb4CeNrsy%2BI/g74u1PwTrBbgsLScm3cA/weRJGinofLOK%2BXyWUqFalGX26fK/8AHQbh97hb7j6vh6cs78F6MZO9XLK/I%2B/scRzU38o4nDJ%2BTq%2BZ9UUUUV9UfLBRRRQAUUUUAFFFFABRRRQAUUUUAFFFFABRRRQAUUUUAFFFFABRRRQAUUUUAFFFFABRRRQAUUUUAFFFFABRRRQAV4z44/5SF/C//sjPjz/07eEK9mrxnxx/ykL%2BF/8A2Rnx5/6dvCFAHs1FFFABXn/7S/xxufgD8NYvFmi%2BEV8Qa1qviHS9B8N6HJqP2OO91HUL2K0gWWfy5DBCrS%2BZLII5GWKNyqSMFRvQK8%2B/aX%2BB118fvhrF4T0Xxevh/WtK8Q6Xr3hvXJNO%2B2R2eo6fexXcDS2/mRmeFmi8qWMSRs0UjhXjYq6gHn95%2B3JfaB%2ByZ48/aF8WfCMW3iD4b6vf6R4r8KWeume1tr21uFiaUXxt0P2HypIrtrloFaO3ZnaEMjR153a/8FavDdx8HbPx5Jofw5i1DVPiHeeF9G1qX4vRp4Kv47WxS8uNUi8QNYjfZpv%2ByFltGf7arQBSqmUdtL%2Bwt441X9n/AMW/B3xF8drCbVfGfiL/AISjWfEdn4OeJX14apFfI32Z711bTQlta2hsmYu8ETh7ljIWGTF/wTz8eQ64nxsX43eF5PiwnxQuvGsfiGf4cSNoUU1xoEOgy2seljUhMiNZ28Uhk%2B2%2BabhS5YxsYaAPo/wDr2peKvAujeJ9Zt9Liu9R0q3urqLRNWN/ZJJJGrsLe6McRuIsk7JfLTeuG2LnA/Kj4Mx/8IX%2ByL/wUc%2BMxGz%2B2/jR428NiXpu8vU72Db/AOVHH41%2BkPwb/Za%2BHPwx/Zb0H9lDxVp1l4x8O6VoEemahb%2BINJglttSUfM%2B%2B1ZWiWMuSVhwVRQqjhRX58/Er4RaP8Iv%2BCQfxe%2BFfgzQbHRbTx/8AtV%2BKNP0bTNJt44YLW3/4Ty4toYYo4wFjRYbBUVFACqAAABXhcQQl9QlVX2I1H83TlFfjI%2Bn8P8sjmnibkFOfwxxdKT8kmm38lGT%2BR%2BjH7L3hT/hBP2aPh34I8rZ/Y3gXSLHZj7vlWcUeP/Ha7qmW9vDaW6WttGEjiQJGg6KoGAKfXs0qapUowXRJfckv0PDx%2BLnj8fWxU96k5zfrOcpv8ZMKKKK0OQKKKKACiiigAooooAKKKKACiiigAooooAKKKKACiiigAooooAKKKKACiiigAooooAKKKKACiiigAooooAKKKKACvGf2X/8Akt/7R3/ZZrH/ANQrwvXs1eM/sv8A/Jb/ANo7/ss1j/6hXhegD2aiiigAooooAKKKKACiiigAooooAKKKKACiiigAooooAKKKKACiiigAooooAK8Z8cf8pC/hf/2Rnx5/6dvCFezV4z44/wCUhfwv/wCyM%2BPP/Tt4QoA8i8Z6kf2U/wDgrTpvxC8SRCHwl%2B0F4TtvDq6mDhLfxHp5P2aOXt%2B9gYRx92diBwpNQXOsH9h7/gp1qmteLIPsvw9/aSisILHVw2INN8VWcRiW3k7J9qjOQ2cvIcYwrFfav26/2XrX9rr9mrXfhLb3n2HXUCal4P1dXKPpusW58y1nVxynzjYzDnZI%2BK8t%2BFl14P8A%2BCs//BPS58A/GixbTPFERl0TxfEsQW68PeJ7EhTcIo/1biQJMFB%2B5LsJwWFfL4jD1qWKlRpfFzOtSvs3tUpvyd7%2BSnf7J6fh9neA4b4lxWU5pf6jj4SjNpXlGMpQlKcF1nQrRp4iMftQdSH2rr6yor5s/wCCdf7TnjX4leGda/Zs/aMmjtvjB8KroaV4wt3k%2BbVbcAfZtWizgvHPGVYsB945wodBX0nXv4TFUsbh41qez6PdNaNPs00013Xob8Q5DjuGc5q5di7OUGrSi7xnCSUoVIP7UKkHGcJLeMujUkiiiiuk8UKKKKACiiigAooooAKKKKACiiigAooooAKKKKACiiigAooooAKKKKACiiigAooooAKKKKACiiigAooooAK8Z8cf8pC/hf8A9kZ8ef8Ap28IV7NXjPjj/lIX8L/%2ByM%2BPP/Tt4QoA9mooooAKKKKACiiigAr85fjX/wAVB8FPgv8ADFPm/wCEg/b08SG7j/vWsHjXxFLL/JTX6NV%2Bcukf8VP%2B1B%2BzR8Ol%2BaMftCfG7XLleyfY/EWsNEx%2BrOQPevJzvXLpQ/mlCP8A4FUgv8z9A8L/AN3xlSxP/Pmliqv/AIKwmJkvxa%2Bdj9GqKKK9Y/PwooooAKKKKACiiigAooooAKKKKACiiigAooooAKKKKACiiigAooooAKKKKACiiigAooooAKKKKACiiigAooooAKKKKACvGf2X/wDkt/7R3/ZZrH/1CvC9ezV4z%2By//wAlv/aO/wCyzWP/AKhXhegD2aiiigAooooAKKKKACiiigAooooAKKKKACiiigAooooAKKKKACiiigDzD9tP4veKvgH%2ByZ8Q/jH4GjtTrfh/wpeXWjvfRF7eG6EZEUsqggtEjlXdcjKqwyM5Hn3wp%2BPXiP4B3Xxy8NftMfGzUPFugfB7TLLxFN451nSbK3vV0ybTHuriGePTreCB3he2ndTHCrGOaJWDspd/ffGng3wr8RfB2rfD7x1oFrquia7ps%2Bn6xpd7EHhvLWaNo5YZFPDI6MykdwTXIfBz9lv4N/AXe/w00/XoJri9lvL%2B71Xxpqup3GozvBDb%2BZdzXtzLJdlIbeCKLzmfyUjCx7BkEA8H/wCCXH7aut/tb%2BKPjHa%2BK/2gfBni%2B40bxbp11oeh%2BD9Z029i8OaXe6PZXKWPnWRb7V5M73EL3Ls4knhnCFUVY07O/wDid4b8Y/8ABTbwX4M0nTfEMN54e%2BD3jiO/m1XwjqNjaSl9W8JYNtdXMEcF6BtOWt3kC5G4jcufafC3wx8D%2BCvFfibxv4Z0P7NqnjHUoL/xJdfaZX%2B2XENpDZxvtdiseILeFMIFB2biCxJPm/jj/lIX8L/%2ByM%2BPP/Tt4QoA9mr4w/aL8KfFX/gn1%2B0L4h/bx%2BCnhWfxL8NvGQt3%2BNngjToc3di8KlBrlkucMVQkzJxu%2BZmOCZIfs%2BkkjSVGilQMrAhlYZBHoa48bg1i6aSlyzi7xkt4v9U1o09Gm12a8/McBHH0klJwnB80JLeMrWvbZpptSi9JRbXZr5d%2BO/7Nvw4/bo8K%2BGP2y/2Pvi3b%2BHfiLp9gLnwJ8SNG5ivIec2F/HjM1uTuR43UvExYFT88bXf2T/8AgoPpfxG8VP8As1ftTaHB8OPjVpLCDUfCmoTbLbWf7t3pkrHbcRSAFggZnXBHzhd543xd%2ByB%2B0p%2BxZ451n40f8E37nTNT8Ma1enUPFPwH12UQWVxOR%2B8m0q46WczAf6s4j%2BqqkYfF8Z/%2BCe//AAVG0E/Aj9oTwgvh3x/psxhl8EeNU/svxFot5gEmzlJV35wwMRIYBd6AHbXgqpWoYrmVqVeXxRldUqtusZdJf%2BTdJxmkpH2mQcf5XjsvpcOcaU5JQ0oVoWdSjrdqjKbUa9CTfM8LUnCdNtyoyhJyU/sWivjaz8H/APBTj9h6I2Hw61Kz/aM%2BHVmf9F0nxFqIsPF1hbj%2BBbpgYb0KM8uDI5wqqowK7T4Rf8FYP2PviLrf/CBfEDxde/DDxjEwS98H/FCwbR7uCQ8Bd837l8nIUCTcePlGcV6tPN8MpKniU6U30non/hl8EvlJP%2B6e1jPDvO5UJYzJZRzDDLVzw95yiv8Ap7Qt9YovvzUpRT2qvRv6VoqKyvbPUrSLUNOu4riCZA8M8MgdJFIyGVhwQfUVLXq7nwTTi7PcKKKKBBRRRQAUUUUAFFFFABRRRQAUUUUAFFFFABRRRQAUUUUAFFFFABRRRQAUUUUAFFFFABRRRQAV4z44/wCUhfwv/wCyM%2BPP/Tt4Qr2avGfHH/KQv4X/APZGfHn/AKdvCFAHs1FFFABRRXn/AO0v8cbn4A/DWLxZovhFfEGtar4h0vQfDehyaj9jjvdR1C9itIFln8uQwQq0vmSyCORlijcqkjBUYA9Aor5%2BvP25L7QP2TPHn7Qviz4Ri28QfDfV7/SPFfhSz10z2tte2twsTSi%2BNuh%2Bw%2BVJFdtctArR27M7QhkaOuOsf%2BCounXX7I/iv9o2y%2BGui%2BINW0bxNeeH/CeleB/HK6ro3jO8gs1vGl03VvssXm2kcf2j7RP9nzAdOvcJL5I3gH1lX5v/ALL9/aa1/wAFLfDmnX04WHwbp/xc1xyQTsN38RdZsgcDnJwAAOT0r9A/hd41/wCFk/DPw78Rf7M%2Bxf2/oVpqX2PzvM8jz4Ul8vftXdt3Y3YGcZwOlfnb/wAE4/8Airf%2BCh/x18Qfe/4RHXtZ0Pd/c%2B1fEbWL3b%2BOM15Oa%2B88PT71Yf8AkvNL9EfoHAP7mGcYv/n3gMT99V0KC/8ATkl8z9Gv%2BEw0n/n01T/wR3f/AMapf%2BEw0n/n01X/AMEd3/8AGq%2BdvH3/AAWR/wCCb3wv8d618NPHP7Rv2HW/DurXOmaxZf8ACIaxL9nureVopY98doyPtdGG5SVOMgkc1k/8Py/%2BCWn/AEdD/wCWTrf/AMhVUs8yWEnGWJppr%2B/H/Mzo%2BFviZiKMatLJMXKMkmmsPVaaaTTTULNNNNPqmn1Pp/8A4TDSf%2BfTVf8AwR3f/wAao/4TDSf%2BfTVf/BHd/wDxqvnbwD/wWR/4JvfFDx3ovw08DftG/btb8RatbaZo9l/wiGsRfaLq4lWKKPfJaKibndRuYhRnJIHNd9%2B398YPiZ%2Bz7%2BxN8U/jj8G7TTZvE/hLwPqGq6OurzMlussELSb32xybtqhmCbcOyhCyBi69eFxuDxsXLD1IzS35Wnb1sfP55wzxJwxWhSzjBVcNKabiqtOdNySdm0ppNpPRtddD0v8A4TDSf%2BfTVf8AwR3f/wAao/4TDSf%2BfTVf/BHd/wDxqvnvU/23Pjb4V%2BIfjnwX8QvgV4E0LT/hl8PLTxN458T3fxUujY273cWqNb21tjRxLOofT4xLK6RFEuC0cczoIpOZ%2BG3/AAUq1f4q6p4Z0PVvhPq/hfW4vjRL4O8Q6Qst5bQyIfB%2Boa/DPt1jR7S9eF0hiTb9ntJBKgZZZIVK3HSeGfVX/CYaT/z6ar/4I7v/AONUf8JhpP8Az6ar/wCCO7/%2BNV88/slft8/En9ofT9EuPHP7MH/CP3fiz4TaL8QfCel%2BHvGsOqz3WnXzBHgnNxBZRW9xCXiYqHkR0fIcMpjrqf2q/FnxV1L4tfC/9nj4W/FfUPAjeNrrWLrVvFejabY3V7Fb2FkJFtoFv7e4t1aSaaFmZ4nPlQSqu1mEiAHrv/CYaT/z6ar/AOCO7/8AjVH/AAmGk/8APpqv/gju/wD41XzlB%2B0J%2B0j8T/8AgmR4Q%2BP/AMPrS5/4TnXdI8OzeIbvwroa3txb2kt/aRaxqGnWUiyCeVLM3lzbwFZdzLGuyc4jfgfCv7S/xB8a/sy/ELxv4z/aq%2BJfgqH4WfEa/wDD2neIj8P9Ih8ReMPMtLG402GXTbzTGQXMkl%2BlsltBbW80zrGpWJ2ZKAPsv/hMNJ/59NV/8Ed3/wDGqP8AhMNJ/wCfTVf/AAR3f/xqvhz9oH9qv9u34EWGh/EX4u2ninRrvSvAngq9m8L%2BCvA8Oo%2BH9f1q5uzF4is7/UWtpmsBCpjW3AuLXJdWQ3bEwrpfDn9pf9q7xb%2B2bH4P1b4ia7ZeCvE/xG8Z%2BEdC1eTRtFl8M3Emm2t61va6Y0cf9qf2rA9jctcm%2BIsnNhfpEWIhAAPtD/hMNJ/59NU/8Ed3/wDGqv2F/aanaJfWM4kikGVYAjvgjB5BByCDyCK8D/Yw8c/FHxR8Sfid4a1H416z8SvAnhq%2BsNN8O%2BOfEOlabbXNzrUf2ldYs4m021tbe5trZls0EqxZW4a8hZ3MBC%2B2%2BD/%2BQTN/2FL7/wBK5aANWiiigAooooAKKKKACiiigAooooAKKKKACiiigAooooAKKKKACiiigAooooAK8Z/Zf/5Lf%2B0d/wBlmsf/AFCvC9ezV4z%2By/8A8lv/AGjv%2ByzWP/qFeF6APZqKKKACiiigAooooAKKKKACiiigAooooAKKKKACiiigAooooAKKKKACiiigArxnxx/ykL%2BF/wD2Rnx5/wCnbwhXs1eM%2BOP%2BUhfwv/7Iz48/9O3hCgD2aiiigArzH9o39jT9mP8Aay0caV8ffg9pGvSRx7LXU3hMN9ajr%2B6uoissYzzgNgnqDXp1FZVqNHEU3TqxUovdNJr7mY18Ph8VSdKtBSi900mn8mmfH8P7Ff7e/wCzYpX9jP8AbhOv6FAc2fgP426c2pQxr2jTUYMXKIPuqgUADGSetcz8Vf2h/jJqWgHwb/wUU/4JDap4s0qAFW1v4fwWniq1IPWeO3bE9qB1yW3gDNfc1FeXPJ4xg40KsoRf2XapD/wGpzaeSkjgwuX4zKcRGvlOMq4ecXePLNtRf91SfNH/ALdqRPyv8G33/BKiHWJYv2Uv%2BCgfxH/Zy10Slp/C99q19ZadBKeSJ7XUkMT887RNtFe7%2BA/E/wDwVE02zF58Ef2r/gD%2B0FpEa5869jOm6hOnbY2nO9uD7sSK%2BuvHfwp%2BF3xSsP7L%2BJvw30DxHbbdv2fXtHgvI8em2VWFeD%2BOf%2BCPn/BOHx5dHUrv9mHSdKuw26K58M311pZib%2B8q2ssaD6bce1eZ/YuPw/8AAcV/glUpf%2BS/vaf/AJKj7teJniTNcuarCZnH/qKoJ1P/AAakqt/P20jnx%2B39%2B2R8OR5f7QH/AASx%2BIcSRcS3vw21uz8SLIP76xRFGAP90nI71NZf8FpP2HbC6TTfivq3jP4eXsjbRZeOPAWoWrq390mOKRQfq2Peoh/wST8O%2BF/n%2BC/7b37QXgwJ/qbDTviM89kvoDDNG24D3aor39iL/gopolq9l4K/4KqXuoWRGDpnjX4UaZqKyj0eYsH/AEp83EtDZOXqqU/xjKlL8A/1z4XxP/Ix4WnTfWWDxzS%2BVPERqxXpzeWh6v4J/wCChv7CvxDCDwp%2B1x8PpZJP9XbXPim2tpm%2Bkczo/wCleqeHvFvhXxbafb/CnibT9TgIyJtPvUmTH1QkV8EeNv8Agnf%2B3Vrpd9d%2BHf7Hfjxz9668VfC%2B5sbl/X95ZpuUn2OK8s8Q/wDBLb46QXf9pah/wS%2B%2BDl7eIcrefD/4wazozA%2BqLNNsX8Vo/tjPKX8TC39I1F%2BXtEL%2B1PCnEfFHNMM/72Gw2IivnRr0pNf9u38j9WqK/JX/AIZR/ba8Ej/iQ/sjftJeEkj%2B5J4B/a10%2B4jP0hkgZsexNL/bX/BSrwP/AMgy9/bH0/Z0%2B1eHNH8UY/N49/8AWj/WarD%2BLhZr0v8ArTQez8M638LP3T8q%2BX4%2Bn97hGvH7kz9aaK/Jb/htb/gqF4O4v/Hvx4mCf9Dh%2ByBa2yfi9pdsSPfHNH/D3j/goR4U/wCQlqvgWZV%2B8fF3wb8T2TY9/socA0f635dH%2BJTqR/7dX%2BaD%2ByuEan8HiXL3/jqYmj/6ewMbH600V%2BTP/EQH8ePDZCeLtN%2BDd0%2BcFLSz8UWZJ/7b2TAfjWpp3/Bx54qiIF3%2BzJ4P1Ud3sPioLL8cXVmDVLjPh9uzqNesX%2BjY48OYOt/u%2Bc5bU9Mxwsf/AE7Ki/yP1Sor81NK/wCDjDwzIobXv2WYrb%2B99j%2BLOkT4/wC%2Btma2Lf8A4OO/2abUbvEXwM8XQ4%2B9/Z2taPd/li7XNbx4s4dl/wAxCXqpL/200jwdmlV2o18LU/wY7AS/LGRP0Tor4B0b/g47/YX1dtj/AA6%2BKVuc4bf4dspAD9Yr1s10%2Bmf8F9P2CNQANwPHlmO5uPBspx/37Zq2hxNw/P4cTD7/APgGkuBOK4vTDp/4a2Fl/wCkYyZ9r0V8hWn/AAXS/wCCbkoB1H4u61Yev2vwRqnH/fFu1adh/wAFtf8Agl/qWBB%2B1NbIT2uPC%2BrRY/77tBWyz7JJbYmn/wCBx/VoS4C42krxy6tL/DDm/GEpn1VRXzfY/wDBXj/gm1qOPs/7Wvhxc/8APeK5i/8AQ4hWzY/8FPv%2BCeuoY8j9sLwGuf8AnvrscX/oeK2jm2VS2xEP/A4//JEvgTjiK1yvE/8Agis/yps93orx%2Bz/4KEfsHX%2BPI/bO%2BFoz0EvjzT4//QpRWrZ/tofsd6hj7B%2B1h8NJ89PJ8d6e38pq2jjsDLatB/8Ab0f/AJI4qnCnFVH%2BJl%2BIXrQrr86J6XRXE2n7S/7ON/j7D%2B0B4Imz08rxXZtn8pK07T4xfCO/x9h%2BKfhybPTytct2/k9arEYeW00/mv8AM4amU5tR/iYapH1p1F%2BcEdHRWda%2BLvCd9/x4%2BJ9Omz08q9jb%2BRq/HLHMu%2BKRWU9CpyK0UovZnFOlUpu04teqa/NIdRRRTICiiigArxnxx/ykL%2BF//ZGfHn/p28IV7NXjPjj/AJSF/C//ALIz48/9O3hCgD2aiiigArz79pf4HXXx%2B%2BGsXhPRfF6%2BH9a0rxDpeveG9ck077ZHZ6jp97FdwNLb%2BZGZ4WaLypYxJGzRSOFeNirr6DRQB84S/sLeONV/Z/8AFvwd8RfHawm1Xxn4i/4SjWfEdn4OeJX14apFfI32Z711bTQlta2hsmYu8ETh7ljIWGDrv/BLDwZ8VPCvja/%2BPXxM1LUfHnjPWNV1M%2BKPAd/rHhWz0ye%2B0jT9JdIbKx1TdNCYNMtWkjubibzZPNJKrJsH1bRQBwPw8/Z0%2BHvhD9nDQ/2YvF2mReMPDuleG7bR7238WB9STU44o1Umdb15mkViudsjPtGFBwor4X/4IvfDfw34K%2BK37Wt34O8N2Ok6RB%2B0fcaHpWm6ZaJBbWdvZeIL/ZBFGgCxoqzqAigAAAAV%2Bk1fEv8AwSg8Lto3gP8AaF8QTJ%2B81n9tHxxMjkdY4/EYhUfQNG/51wYun7TFYd/yyk//ACSS/U%2Bt4fxqweQZxG%2BtWjSp/fiqU3/6bR9tUV8xeP8A/gpr/wAIF471vwL/AMO%2Bf2nta/sXV7mw/tjQPhP9psL/AMmVo/PtpftI82F9u9HwNyspwM1kf8PYf%2Bsan7Wn/hm//uqspZ1lkZOLqar%2B7P8A%2BVn5zLiHJoScZVdVp8NTpp/z6PrSsX4j/DzwZ8XPh9rnwq%2BI2gxar4f8S6Rc6XrmmTsypdWlxE0U0RKEMAyMwypBGcgg818%2BeAf%2BCmv/AAnvjvRfAv8Aw75/ae0X%2B2tXtrD%2B2Nf%2BE/2awsPOlWPz7mX7SfKhTdvd8HaqscHFezftJ%2BMPid8PPgF4v%2BIPwZ8OWms%2BJ9B0C51LR9FvYXdNSkgQym1AR0IeVUaNG3YV3ViGAKnrw2Mw2Mi5UZXS30kv/Sox/U7cHj8HmEXLDy5ktHpJef2ox/C5jQfsa/s8L4V8U%2BDtT8Ialq9n418N2%2Bg%2BKpfEXivU9TutSsIPtPkxyXN3cyT70%2B1z4lDiUbl%2Bf5E253gf9gr9lr4e6kuueH/AWpTakPFw8US6trXjHVtSvLjVxpE2jC7muLy6llnYafPLb4kZl2lTjciMvhviP/go/wDE34keFrnxj%2By42h6rYeI/Hc2kfCiWLwkuqN4g06w0hbrVb2RrnW9KtoY4rvz4A7XC7RZuAkrSDy%2BJ8G/t1fEb4ueI9E%2BPFl9ptdO8efDL9nfVY/Cja/e/YdKn8ReLtdtr%2BSD7NPFucxeSjMcpOtrCsySxL5R6TsPsPwx%2Byd8CPBNjolh4O8J3ulL4c8DWng7RJtO8R6hDNaaLavG8FqsqThztMUeZCxkYAhnYMwOj8b/2evhT%2B0Tomn6H8UtH1GYaRqJvtIv9E8RX2kX1jcGGWBnhvLCaG4i3QzTROEkAdJGVgVJFfJvwT/ap/ag%2BN37Unwg8Yan4q8I/2J47%2BFvj/W/Dnw90q6vdPa1ks7/RoLaDVpTNcJdSx%2BaUa4S2iNtI9wixSZyfbv239W8ST6Z8KPhvL4q1Xw7pHjv4r2Gh%2BM9S8N67cafdQ2Z0%2B/ukghvbdop7fz721s7XzI2jkZbgqpUuKAPQpP2d/hYngMfDDRrHWNF0CLw5YaFZaZ4Z8V6jpUen2NmSbdLT7HcRGzdQdplgKSuiIjOyxoq8X4l/4J6/sq%2BK/CnhPwdqPhLxJb23gnXrvXPDt3pHxH16wvotUullW4v5ry2vY7m7uZBPMGnnkkkPnSfN87Z4H4Raj%2B0L8U/%2BCbfjfQ/hP8SbufxpZ6l478OeAfFmsaqWuLi30/XtU0/TLiS8lDlpTa20A%2B1uHLtidt%2B454r9n2z%2BKvxZ0743/As%2BC/H1hYeEvFOjHwT4e8cftCataarDfy6VFPd6fd%2BINJur66SMbkuhCs11tW6TcqqyxRAH0r4g/ZL%2BCni7xB4Y8R%2BLrTxNq0nhC3sItHstV8f6zc2LvZSeba3F1aSXbW9/dRy4lF1dRyz%2BYiOZCyKwzYP2Gf2ZLT4g6j8TrPwRqcOq6lc6ndMsHjDVUtLO81COSO%2BvbO0W6FvYXc6yzb7q2jinYzynfmRy3wtP8avi54v/AGaNS1/xh%2B0l4y0zV/hd%2BzX4i8U%2BGr/S/Fl3bC98T6drGo2czXDwzD%2B3YLN7Cytl%2B0ebFdpeCWSMvcLt%2Bl/FfgifxT/wUU%2BGNh4T8a%2BP9Kv7Dw3f%2BO/idpcPxP1x9JaEwDTNO019Ma8Nkkc1zPc3ICQrltGbJ%2BZgwB7N%2Bzb%2Byh8F/wBknwiPAPwMtPEljocVnbWlnpGtePdY1m2sYIFdYorWPUbudbVQHIIhCB8Lu3bFx2fg/wD5BM3/AGFb7/0rlrUrL8H/APIJm/7Ct9/6Vy0AalFFFABRRRQAUUUUAFFFFABRRRQAUUUUAFFFFABRRRQAUUUUAFFFFABRRRQAV4z%2By/8A8lv/AGjv%2ByzWP/qFeF69mrxn9l//AJLf%2B0d/2Wax/wDUK8L0AezUUUUAFFFFABRRRQAUUUUAFFFFABRRRQAUUUUAFFFFABRRRQAUUUUAFFFFABXjPjj/AJSF/C//ALIz48/9O3hCvZq%2BcP2j9X%2BNej/t4fCef4HfD/wt4i1JvhH47W7tPFfjC50WCOD%2B1PCRLpLb6fes77to2GNRgk78gKQD6Porxn/hOP8AgoX/ANGv/Bn/AMPxq3/zL0f8Jx/wUL/6Nf8Agz/4fjVv/mXoA9morxn/AITj/goX/wBGv/Bn/wAPxq3/AMy9H/Ccf8FC/wDo1/4M/wDh%2BNW/%2BZegD2aivnHSf2jv27dY%2BM%2Bv/A63/ZQ%2BEi6p4d8L6Rrt5cv8ddU8iSDUbnUreFEI8Mbi6tpc5YFQAHjwWJYL1H/Ccf8ABQv/AKNf%2BDP/AIfjVv8A5l6APZqK8Z/4Tj/goX/0a/8ABn/w/Grf/MvR/wAJx/wUL/6Nf%2BDP/h%2BNW/8AmXoA9morxn/hOP8AgoX/ANGv/Bn/AMPxq3/zL1y/gH9o79u34ieK/G/hDR/2UPhJDceA/FEWharJc/HXVAk88mlafqYeLb4YJKeTqMKksFO9HGMAMwB9HUV4z/wnH/BQv/o1/wCDP/h%2BNW/%2BZej/AITj/goX/wBGv/Bn/wAPxq3/AMy9AHs1FeM/8Jx/wUL/AOjX/gz/AOH41b/5l6P%2BE4/4KF/9Gv8AwZ/8Pxq3/wAy9AHs1FfOPwi/aO/bt%2BMvhS78X%2BHP2UPhJbW9n4o1vQpI73466ormfS9VutMncbfDDDY01pIyHOSjKSFOVHUf8Jx/wUL/AOjX/gz/AOH41b/5l6APZXRJFKOoYHqCMg1lah4C8C6vn%2B1fBek3Wev2jTonz%2BamvL/%2BE4/4KF/9Gv8AwZ/8Pxq3/wAy9H/Ccf8ABQv/AKNf%2BDP/AIfjVv8A5l6TjGW6uTKMZL3lc7S//Z1/Z91XP9p/Arwbc56%2Bf4YtHz%2BcdY97%2Bxl%2Bx9qWf7R/ZR%2BGtxnr53gXT3z%2BcNYf/Ccf8FC/%2BjX/AIM/%2BH41b/5l65f4I/tHft2/Hj4MeEPjj4V/ZQ%2BElrpfjPwvp%2Bu6bbah8ddUWeGC7to7iNJAnhhlDhZAGCswyDgkc1jLC4WXxU4v/t2P/wAiYSwWCn8VKL9Yxf8A7addef8ABPf9g6%2BBE/7GHwsGepi8A6eh/NYRWXd/8EyP%2BCfF7nzv2Ovh%2Buf%2BePhyGP8A9BAq9/wnH/BQv/o1/wCDP/h%2BNW/%2BZej/AITj/goX/wBGv/Bn/wAPxq3/AMy9ZPLsulvRh/4BH/5EwllOVS3w9P8A8Ah/8gc/df8ABJ3/AIJyXmfO/ZE8IjP/ADytpI//AEFxWdc/8Edv%2BCaV3nzf2TdCGf8AnlfXif8AoM4rsf8AhOP%2BChf/AEa/8Gf/AA/Grf8AzL1y/wAbv2jv27fgP8GPF/xx8VfsofCS60vwZ4X1DXdSttP%2BOuqNPNBaW0lxIkYfwwqlysZChmUZIyQOayeUZTLfDw/8Aj/kZPIcjlvhaf8A4Lh/8iY9x/wRS/4Jg3X%2Bt/ZVsRn/AJ5%2BI9UT/wBBuhVKf/ghp/wS3m5H7MOw%2BsfjTWh/7eYr03/hOP8AgoX/ANGv/Bn/AMPxq3/zL0f8Jx/wUL/6Nf8Agz/4fjVv/mXqHkeSvfDU/wDwCP8AkZPhzh5/8wdL/wAFx/yPJbj/AIIQf8Ewp/ufAG9j/wBzxnqp/wDQrk1Tn/4IGf8ABMyX/V/CDWIv9zxff/1lNezf8Jx/wUL/AOjX/gz/AOH41b/5l6P%2BE4/4KF/9Gv8AwZ/8Pxq3/wAy9Q%2BH8if/ADC0/wDwFGsMjyen8FCK9Fb8pI8Om/4N%2Bv8AgmxL9z4feI4/9zxZc/1JqrL/AMG9f/BOOT7nhrxbH/ueKpP6qa9T%2BLv7R37dvwa8KWni/wAR/sofCS5t7zxRomhRx2Xx11RnE%2Bqara6ZA53eGFGxZruNnOchFYgMcKeo/wCE4/4KF/8ARr/wZ/8AD8at/wDMvUPhzIH/AMwsP/AUdEcuwcPhi16TqL8qqPnuX/g3d/4J2yfctPG0f%2B54nH9YjUD/APBup/wT8zut9T%2BIMB9YvE0Wf1tzX0X/AMJx/wAFC/8Ao1/4M/8Ah%2BNW/wDmXo/4Tj/goX/0a/8ABn/w/Grf/MvU/wCrPDz/AOYWH3f8E2jQUfhnNelWuvyro%2BdU/wCDeP8AYngObL4mfFi2x08jxZbj/wBtKni/4IAfsrWpzY/tC/G%2B3x08nxtbL/7Z19B/8Jx/wUL/AOjX/gz/AOH41b/5l65fx9%2B0d%2B3b8O/FfgjwhrH7KHwkmuPHniiXQtKktvjrqhSCePStQ1MvLu8MAhPJ06ZQVDHe6DGCWUXDWQLbDR/H/wCSB4dS3nU/8HV//mg8vg/4ITfAez/48f2uv2hIMdPJ%2BIVuuP8AySq/b/8ABFL4cWQxYft1/tMQenlfE6Ff5Wde0/8ACcf8FC/%2BjX/gz/4fjVv/AJl6P%2BE4/wCChf8A0a/8Gf8Aw/Grf/MvVrh7JFtQX3y/%2BTOeeW4Wp8XO/wDuLX/%2BXnj8X/BHjS7X/jx/4KLftRQ46bfioo/lbCj4E/skXP7LP/BQrwas/wC018VPiKuufBnxlsHxM8WHVP7O8nVvC3/Ht8i%2BV5nm/P13eVH/AHa9g/4Tj/goX/0a/wDBn/w/Grf/ADL1Q8D%2BB/2rPGP7Vnhz43fG74cfD3wzo3hn4e%2BIdDhh8K/EO%2B1q6u7rUr7RLhGZLjSLFIo0TS5QWDuxaVAFxkjow%2BU5dhaqqUqdpLzn%2BTm1%2BAqOV4HD1lVhF8y7zqP8JVJL8Ge60UUV6J6AUUUUAFFFFABXzl%2BxD4Z07wt%2Bzx4svbHzCL39obx/qd87DOD/AMJ5qm9uB0VIx%2BC19G18lfsleLP2ztP%2BHviiz%2BGPwD%2BGGr6Enxp%2BIv8AZ%2Bo698XdR027mX/hM9ZLGS2i0C5SIhtwAEz5AByCdoTSbT7FxqVIwlBPSVr%2Bdndfc9T6g/4TnwT/ANDhpf8A4MI//iqX/hOfBP8A0OGlf%2BDCP/4qvLf%2BE4/4KF/9Gv8AwZ/8Pxq3/wAy9H/Ccf8ABQv/AKNf%2BDP/AIfjVv8A5l6ZB6l/wnPgn/ocNK/8GEf/AMVR/wAJz4J/6HDSv/BhH/8AFV5b/wAJx/wUL/6Nf%2BDP/h%2BNW/8AmXo/4Tj/AIKF/wDRr/wZ/wDD8at/8y9AGpffAz9ijVPhxpPwd1P4O/C248I6Be/bNC8Kz%2BHtNfTdNud0jedBbFPKhk3Syneig5kc5%2BY50NP%2BHH7KOk2trZaV4D%2BHttDZWmk2llDb6XYotvBpc8lxpkSAKAiWk8sstuowIJJHeMKzEnzP4I/tHft2/Hj4MeEPjj4V/ZQ%2BElrpfjPwvp%2Bu6bbah8ddUWeGC7to7iNJAnhhlDhZAGCswyDgkc11H/Ccf8FC/wDo1/4M/wDh%2BNW/%2BZegDVsfgf8AsVaX4p1vxzpnwg%2BF1vrfiWC6h8R6xB4f01LrVY7rH2lLmUJvnWXavmByQ%2BBuziug8b6V8APiZ4Iufhl8SNN8HeIPDd5CkV34e1yG0u7GeNGVkR4JQ0bKrKpAK4BUEdBXFf8ACcf8FC/%2BjX/gz/4fjVv/AJl6P%2BE4/wCChf8A0a/8Gf8Aw/Grf/MvQB1Q8E/swjw9b%2BER4R8BjSbTw3P4etdL%2BwWX2eHSJxGs2nJHt2rayCGIPAB5bCJAVO0Yw7r9nz9hi%2B%2BFtr8Dr34IfCebwVZX5vrPwfL4a0xtLgujvzOloY/JST94/wA4UN87c8muJ%2BN37R37dvwH%2BDHi/wCOPir9lD4SXWl%2BDPC%2Boa7qVtp/x11Rp5oLS2kuJEjD%2BGFUuVjIUMyjJGSBzXUf8Jx/wUL/AOjX/gz/AOH41b/5l6AN3xB8Jv2QPFlj4Y0vxV8NPhtqdt4Jljl8GW%2BoaNp80egOgQI1kroRalRGmDFtI2LjoK6S0u/g9YeKL7xvY3XhqHWtTs7az1LV4Xt1uru3t2ma3hllHzyRxNcXDIrEhDPIVA3tnz7/AITj/goX/wBGv/Bn/wAPxq3/AMy9H/Ccf8FC/wDo1/4M/wDh%2BNW/%2BZegD1H/AITnwT/0OGl/%2BDCP/wCKo8GHfoZnUHZNfXcsRIxuR7mRlb6FSCPY15d/wnH/AAUL/wCjX/gz/wCH41b/AOZeuX%2BLv7R37dvwa8KWni/xH%2Byh8JLm3vPFGiaFHHZfHXVGcT6pqtrpkDnd4YUbFmu42c5yEViAxwpAPo6ivGf%2BE4/4KF/9Gv8AwZ/8Pxq3/wAy9H/Ccf8ABQv/AKNf%2BDP/AIfjVv8A5l6APZqK8Z/4Tj/goX/0a/8ABn/w/Grf/MvR/wAJx/wUL/6Nf%2BDP/h%2BNW/8AmXoA9mor5x8fftHft2/DvxX4I8Iax%2Byh8JJrjx54ol0LSpLb466oUgnj0rUNTLy7vDAITydOmUFQx3ugxgll6j/hOP8AgoX/ANGv/Bn/AMPxq3/zL0AezUV4z/wnH/BQv/o1/wCDP/h%2BNW/%2BZej/AITj/goX/wBGv/Bn/wAPxq3/AMy9AHs1FeM/8Jx/wUL/AOjX/gz/AOH41b/5l65fVv2jv27dH%2BM%2BgfA64/ZQ%2BEjap4i8L6vrtncp8ddU8iODTrnTbeZHJ8Mbg7NqkBUBSCEkyVIUMAfR1FeM/wDCcf8ABQv/AKNf%2BDP/AIfjVv8A5l6P%2BE4/4KF/9Gv/AAZ/8Pxq3/zL0AezUV4z/wAJx/wUL/6Nf%2BDP/h%2BNW/8AmXo/4Tj/AIKF/wDRr/wZ/wDD8at/8y9AHs1FfOOk/tHft26x8Z9f%2BB1v%2Byh8JF1Tw74X0jXby5f466p5EkGo3OpW8KIR4Y3F1bS5ywKgAPHgsSwXqP8AhOP%2BChf/AEa/8Gf/AA/Grf8AzL0AezUV4z/wnH/BQv8A6Nf%2BDP8A4fjVv/mXo/4Tj/goX/0a/wDBn/w/Grf/ADL0AezUV4z/AMJx/wAFC/8Ao1/4M/8Ah%2BNW/wDmXrl/AP7R37dvxE8V%2BN/CGj/sofCSG48B%2BKItC1WS5%2BOuqBJ55NK0/Uw8W3wwSU8nUYVJYKd6OMYAZgD6Oorxn/hOP%2BChf/Rr/wAGf/D8at/8y9H/AAnH/BQv/o1/4M/%2BH41b/wCZegD2avGf2X/%2BS3/tHf8AZZrH/wBQrwvR/wAJx/wUL/6Nf%2BDP/h%2BNW/8AmXq3%2Byt8OfjT4P1j4oeO/jpoHhfSdU8ffEKLXLPSvCfiW51a3tbWLQdH0xVe4uLKzZpGk06Vyoi2hZEG5jnAB63RRRQAUUUUAFFFFABRRRQAUUUUAFFFFABRRRQAUUUUAFFFFABRRRQAUUUUAFfK/wC09%2B1p8XPhh8Y/FmteAfDvg%2BTwx8H/AA/4fvfGp1rSLibVdUt9Xv5UuYLC4juI0svItrOO4zJFOLmQpGRD5fmn6orxn4z/ALEPw4%2BN3xSPxM1zxz4q0uLUbXSLXxf4a0a6tU07xTBpd7Je2MV8stvJMFjmmlz9nlgMschimMsYVAAezUUUUAFFFFAHzH4c/aV%2BJkP7f/ij4P8AxG1jw94T8Nr4gtNE8GRaj8ItZS68YwDQINRxB4ja7XTmlju7nUALQQvJ5dpMAoLNIv05Xlfiz9lqDx/8ZNI%2BKfj343%2BNdX0rw9rsetaB4AuDpkWjWOoR27wRzhobJL2XZ5kkipNdSRiR92z5EC%2BqUAFFFFAHi/8AwUF%2BLvxw/Z%2B/ZH8afHr4BXvhSPWPBOhXeuXUHjDRbm%2Btru0tbaWZ7dEtrq2ZJXZEUSFyqAsSj8CvP/Hn7Wnxc8F/HjxbqfhTw74Qi%2BHnhD4x%2BEfh94ys5tIuDreq6rrsGipHqEN2lwsMccH9uaTGYpLeV5EhnxLHtQV7D%2B1j%2BzjZftafAjXv2fda%2BKvinwjpPieylsdcv/CC6d9rubKWJ4prbdf2l1GiOr8siLICo2uvOeLg/YB8HT/EWz%2BIvir44%2BPtdY6zpOueJtG1CXSorHxPrmmJGljq17HbWETLcRCC0wts0EDGxti8TGPJAPe6KKKACvF/2yfi78cPgla%2BAfGPwsvfCn9jah8TPDnh7xfY%2BINFubm6ubXVdZsdNBs5YbqFLaSNbmWTfIk6koi7OSa9oryr9q79lt/2qvDeheF5/j7438DW%2BheJLDXUbwXDo7Pd3tjeQXlm0p1LT7wbYri3jcLGEDcrJvU7QAecfs8/tK/EzW/2qvFvwR%2BKGr%2BHvCenQ%2BKdbt/BPhKT4Razplzr1tC6Sm/t9auLv7BqDsZJpZYraAvyXYrhifpyvJdJ/ZRD/GTRfjL8R/2gPHfjWbwvd3l34T0LxCNJhsNHurm3ktZLiJbDT7aWV/s808K%2BfJKqLO%2B0AkEetUAFFFFAHh/7d3xc%2BPH7P3wa1f46/Cjxj4FsdP8AC2i3N5e6L4s8M3t/c%2BIb3KLZ6ZZyW17B9nmuJSLdG8q6ZpZ4gsLH5W8/%2BCP7X3xn1z4l%2BCv7W8GeEtI%2BGnjf4n%2BKPht4V8Nadpc0er6Jf6BDq2%2Bee5Fw1vNBI3h/U0WGO3iMatbHzJMsB6f%2B0r%2ByDB%2B0l488EfECb9oHx34QufAN3c3ui2PhiLRp7OS9lQRreTQanp14jzwx%2BYsMgCmMTykfM2RV8B/sNfD3wH8Zbf4uw/EXxdqUGna7qevaJ4Q1K5sv7J0rW9RjePUNUgSK1Sfz5xPdlleZ4Ua%2BuTHFH5nAB7XRRRQAV8v/ALXPx4/aX%2BC3xE0/wppUPgDxro/jmHWrbRfhzF4PvpNYS1tNDuruS/uJxevFdWwuore2khFrED9vhQTGRkST6grw6b9ia4j/AGj/ABX%2B01on7VfxL07V/Fumw6dc6XDB4fntNPs4YGjhtrNrnSZbm3iWV3utizbXncu4cHbQAz9hD9oPxv8AHv4e3l18V/H2jX3i7ThZtr/huy%2BF2r%2BEbzQHntllEFzZavdT3Dgtv8u4ASORUO0NtJr3SvN/gd%2Bzdp3wZ8T%2BJPiHrHxS8U%2BOPFXiuKxt9Y8T%2BLmsFuXtLMTfZbVItPtbW2jija5uXG2EMzXEhZmyMekUAFFFFAHxz/wUE/bj%2BKn7GHjn%2B09c0XQPGPhF9G1HW7fwrL8OdTspbdNN0a%2B1JJP%2BEimun0ye7%2B16aNlisCXQjmWUDbC0jevfs0fF3456t8VPG/7PX7R1z4U1DxP4R0nQ9aj1rwVpFzYWNzY6oLyNIjBc3Ny6yxXGnXal/NxIhibZGSVFb46/sJeCP2nNaurX4/8Axb8a%2BKPBdzJcSL8MryTTYdFikmsZrJm329lHfSAR3EzBJbp0Dvu2/IgXp/2fP2ZtI%2BAd5r3iK7%2BKHizxx4j8SGzj1bxV41uLN76W2tIjFa2o%2Bx21vCsUQeVhiPezzyu7Ozk0AelUUUUAFfEf7U/7ZX7Wfwb%2BNXiD4UeDvDfhzxrqdhotxrvhgJ8D/EEcmigajplqhhb7c48TSCx1S487%2By/KeFoSsojEwjr7crw/Xv2LdT8S%2BPT8Tta/a5%2BKM2t6fBeReDbwpoAHhVbqaGSf7JGNJ2Ts0cC2%2B69W6ZYmcKVd2cgHVfssfFh/jJ8I4PFl78TNG8VX8Oo3Vlql9o3gy%2B8Oi2uIpWVrWbTdQuJ7qznjGFeOZw%2Bfm2qGAr0auG%2BAfwF8PfADwzqejaV4p1vxBqOv69ca34k8SeI5oGvdVv5giNPKLeKGBMRxQxKkMUcapEgCjBJ7mgAooooAKKKKACiiigAooooAo%2BKPENh4S8Naj4r1UObXTLGa7uREuW8uNC7YHc4U185/sTftJ/Gvx/4p0fwZ8bPD3gyzHjr4W2XxG8Mw%2BDNKuLQaZHeXBN3p92ZriUXc0b3Ns/2xBAJ2lmJgj2gv9LXdpa39rLY3tuk0M0bRzRSqGV1IwVIPBBHGK8h/Zm/Yr8Bfswaq%2Br6B8QfFviWW28MWPhnw6PFl7azDQNCs3ke3021Nvbwlo1MnzSzma4kEcXmTP5a4APYqKKKACuF/ag8efEX4Wfs0fET4nfB/wouveLfDngXV9U8LaG1jNdDUdRt7OWW2tjDAyyzCSVETy42DtuwpBINd1Wd4t0S/8S%2BGNQ8P6X4r1HQrm9tJIbfWtIWBrqxdlIE0QuIpYi6nkCSN0yPmVhkEA8u/Yp%2BLU/xQ%2BGd9Zat8QvD%2Bs6n4d1VdOvNM0T4Yan4OfQ0FtBJFZ3Glapcz3MLhHEiu3lo8UsWxMDe/sVeefAf9nbSfgdeeJfEdz8RPEnjHxJ4v1GG88ReKfFb2Yu7ow26W8EQjsba2tooo40AVY4UyWdmLMzMfQ6ACiiigD5c/ao/ax%2BKH7OHxe8cWXxK0bwl4i%2BF9h%2Bzv4v8AHttoVvolwmqu2iDS1ntri5kuXt5op1vpwEFshUImXfLCu3/Zn%2BL/AMfNU%2BLnjL9nX9pZ/CV54o8MeGPD3iWPVfBWk3NjZSWWrPqVutsYbm5uXMsNxpF2DKJAsiPE3lxnctQfGP8AYV8O/HT46t8ZfHnx28cy6bN4K1PwjffD2GDRf7Eu9G1Jbb7faSF9Na9Ina0gdnF0HUoQjIjMh6T9nf8AZd0P9n2%2B1rxHP8UPFvjfxDr9rYWV/wCJ/G1zaSXpsLFJFs7MfZLa3j8qIz3DglDI73Mru7s2aAPT6KKKACvkT41/tL/tbeDNd/aA8CW/hXwZ4svfAXh/wp4k%2BG1jpPw/1O/nWPUdV1KEJeWsV48uozwLpsc6m2FuS5IVflVq%2Bu68Ll/Yo8QxfHTxt8f9C/bQ%2BK2lat430ix0y5sbKz8MNaabbWVxcz2aWwl0V5P3RvLpQZnlLrORJ5hVCoB1f7Knxbm%2BMvwpHibUfido3inUbXVbmx1a60fwRf8Ahs2dxE3zWs%2BmajcT3VpOildyTMGIZW2qrCvSa4T4B/APQPgDoWs2On%2BLdc8R6r4m8QS654n8TeJJbdr3Vb%2BSGGDzZBbQwwRhYLe3hVIoo0VIUAXOSe7oAKKKKAPjb9pb9rv9pb9nj4zQfDbWU%2BGfjW%2B1uCCbwjDp3ha9tJfBd5qXiHTPD2kTanK99MLqKdtXnBaJbORxY3Sxhl8wxe4/sq/F/wCJHxGHj/4ffGI6JP4q%2BGnjxvDWs6r4a06azsNT8zS9O1a3uIbeaeeS3za6pbo8bTS4kjkwxBGOFtv%2BCavhJrr4hv4h/aX%2BJ2s2/wASdeOuaxb6kdC8yz1KK4hn0%2B5trqLS0ulNg9vbi0jeaSKJYUDI/OfWPgH8BdD%2BAfh7VtNsvF%2BueJNW8Ra9NrXifxR4le2N/q99JHFD50wtYIIF2QQW8CJFFGixwRqF4JIB3VFFFADLn7T9mk%2Bx7PO2HyvNzt3Y4zjnGa%2BIPit%2B1z%2B2n8NPiJrnw2t7bwH4z17wxe%2BGrfVvHXgj4K6/q0fhy31Zrx72wl0qz1Ke7uZo4bKxuiYp0/d3ULSwIDE0n29dwyXFrLbw3UkDyRsqzxBS8ZIwGXcCuR1GQR6g189/Bj9gLxB8BPhtcfDT4d/t1fGKKO61Z9Tm1m8svCc%2BoS3cryyXM80z6EftMk7y7pJJxI%2BY02FAMEA9Z%2BAnxDsvit8HfD/xCsPiBo3ipNT08SPr/h/SZrC0u5ASshS1nmmltirqyNDJI7xsrKx3KQOvrkvgX8F/CX7Pvwv074U%2BCrm/uLKwluria%2B1W5E11fXd1cy3V1dTOFUNLNcTzSvtVV3SHaqrhR1tABVHxPD4kufDeoW/g3U7Gy1eSylXS7zU7B7q2guChEcksMcsTTRq2CyLJGWAIDqTuF6s3xjoN/wCKPC1/4d0vxbqWg3N5avFBrWjiA3Vi5HE0QuIpYi6nkCSN0OPmVhkUAfD3w3/bs/a1%2BMHxT1v4JfCzTfh8njPTbXXb6Txn4r%2BF2taGuqaZpFrosqWMuiXl8moafK934h2JNPM8flQyXCQus6A/Y3wC%2BLWm/Hz4E%2BCvjro2my2dn418Jabr1pZzPueCK8tY7hY2IAyVEgBPqK8W1f8A4JkeB9a1y%2B%2BIt3%2B0p8U0%2BIGrJeWutfEm2vdIh1a/0y6trW2m0wommizhtillaMPItopVkgWVZQ5Zj9B%2BC/B/hr4eeDtJ8AeDNJi0/R9D0yDT9JsIc7La2hjWOKNc84VFVR9KANOiiigDl/jTqPjjRvhbrWt/DnxDY6Xq1hZm6hvtQ8H3viBEjjIeUDTrGeC5vJGiV1SKGQOXZcK5%2BRvi34S/8FEfj94k8aaHqfje48I%2BBPBmpTzr4g8cXnwM8RTW2sX8Ov3WkIlzKt9GnhmeS1tLX9xqjSSwPKsb52BK%2B2/iZ4M13x74Sm8OeG/ilr/g28kljeLX/DMVi93BtYEqq39tcwMGAKkPE3BOMHBHit1/wTm8Kah4PuPhtq37SHxNu/DGuahNf%2BPNAmuNHEXjC7nvGuria%2BlXTRcReaWWFo7OW1iEMSRqijduAPomiiigAooooAKKKKACiiigAooooAKKKKACiiigAooooAKKKKACiiigAooooAKKKKACiiigAooooAKKKKACiiigAooooAKKKKACiiigAooooAKKKKACiiigAooooAKKKKACiiigAooooAKKKKACiiigAooooAKKKKACiiigAooooAKKKKACiiigAooooAKKKKACiiigAooooAKKKKACiiigAooooAKKKKACiiigAooooAKKKKACiiigAooooAKKKKACiiigAooooAKKKKACiiigAooooAKKKKACiiigAooooAKKKKACiiigAooooAKKKKACiiigD//Z\">"
      ]
     },
     "metadata": {},
     "output_type": "display_data"
    }
   ],
   "source": [
    "s.run(tf.global_variables_initializer())\n",
    "\n",
    "BATCH_SIZE = 512\n",
    "EPOCHS = 40\n",
    "\n",
    "# for logging the progress right here in Jupyter (for those who don't have TensorBoard)\n",
    "simpleTrainingCurves = matplotlib_utils.SimpleTrainingCurves(\"cross-entropy\", \"accuracy\")\n",
    "\n",
    "for epoch in range(EPOCHS):  # we finish an epoch when we've looked at all training samples\n",
    "    \n",
    "    batch_losses = []\n",
    "    for batch_start in range(0, X_train_flat.shape[0], BATCH_SIZE):  # data is already shuffled\n",
    "        _, batch_loss = s.run([step, loss], {input_X: X_train_flat[batch_start:batch_start+BATCH_SIZE], \n",
    "                                             input_y: y_train_oh[batch_start:batch_start+BATCH_SIZE]})\n",
    "        # collect batch losses, this is almost free as we need a forward pass for backprop anyway\n",
    "        batch_losses.append(batch_loss)\n",
    "\n",
    "    train_loss = np.mean(batch_losses)\n",
    "    val_loss = s.run(loss, {input_X: X_val_flat, input_y: y_val_oh})  # this part is usually small\n",
    "    train_accuracy = accuracy_score(y_train, s.run(classes, {input_X: X_train_flat}))  # this is slow and usually skipped\n",
    "    valid_accuracy = accuracy_score(y_val, s.run(classes, {input_X: X_val_flat}))  \n",
    "    simpleTrainingCurves.add(train_loss, val_loss, train_accuracy, valid_accuracy)"
   ]
  },
  {
   "cell_type": "code",
   "execution_count": 17,
   "metadata": {
    "collapsed": true
   },
   "outputs": [],
   "source": [
    "## GRADED PART, DO NOT CHANGE!\n",
    "# Testing shapes \n",
    "grader.set_answer(\"9XaAS\", grading_utils.get_tensors_shapes_string([W, b, input_X, input_y, logits, probas, classes]))\n",
    "# Validation loss\n",
    "grader.set_answer(\"vmogZ\", s.run(loss, {input_X: X_val_flat, input_y: y_val_oh}))\n",
    "# Validation accuracy\n",
    "grader.set_answer(\"RMv95\", accuracy_score(y_val, s.run(classes, {input_X: X_val_flat})))"
   ]
  },
  {
   "cell_type": "code",
   "execution_count": 18,
   "metadata": {},
   "outputs": [
    {
     "name": "stdout",
     "output_type": "stream",
     "text": [
      "Submitted to Coursera platform. See results on assignment page!\n"
     ]
    }
   ],
   "source": [
    "# you can make submission with answers so far to check yourself at this stage\n",
    "grader.submit(COURSERA_EMAIL, COURSERA_TOKEN)"
   ]
  },
  {
   "cell_type": "markdown",
   "metadata": {},
   "source": [
    "# MLP with hidden layers"
   ]
  },
  {
   "cell_type": "markdown",
   "metadata": {},
   "source": [
    "Previously we've coded a dense layer with matrix multiplication by hand. \n",
    "But this is not convenient, you have to create a lot of variables and your code becomes a mess. \n",
    "In TensorFlow there's an easier way to make a dense layer:\n",
    "```python\n",
    "hidden1 = tf.layers.dense(inputs, 256, activation=tf.nn.sigmoid)\n",
    "```\n",
    "\n",
    "That will create all the necessary variables automatically.\n",
    "Here you can also choose an activation function (remember that we need it for a hidden layer!).\n",
    "\n",
    "Now define the MLP with 2 hidden layers and restart training with the cell above.\n",
    "\n",
    "You're aiming for ~0.97 validation accuracy here."
   ]
  },
  {
   "cell_type": "code",
   "execution_count": 22,
   "metadata": {},
   "outputs": [
    {
     "name": "stdout",
     "output_type": "stream",
     "text": [
      "(50000, 28, 28) (50000,)\n"
     ]
    }
   ],
   "source": [
    "# write the code here to get a new `step` operation and then run the cell with training loop above.\n",
    "# name your variables in the same way (e.g. logits, probas, classes, etc) for safety.\n",
    "### YOUR CODE HERE ###\n",
    "from preprocessed_mnist import load_dataset\n",
    "X_train, y_train, X_val, y_val, X_test, y_test = preprocessed_mnist.load_dataset_from_file()\n",
    "print(X_train.shape, y_train.shape)"
   ]
  },
  {
   "cell_type": "code",
   "execution_count": 23,
   "metadata": {
    "collapsed": true
   },
   "outputs": [],
   "source": [
    "s = reset_tf_session()\n",
    "input_X = tf.placeholder(tf.float32, shape=(None,784))\n",
    "input_y = tf.placeholder(tf.float32, shape=(None,10))\n",
    "hidden1 = tf.layers.dense(input_X, 256,activation=tf.nn.sigmoid)\n",
    "hidden2 = tf.layers.dense(hidden1, 256,activation=tf.nn.sigmoid)\n",
    "logits = tf.layers.dense(hidden2, 10)\n",
    "probas = tf.nn.softmax(logits)\n",
    "classes = tf.argmax(probas,1)\n",
    "#print(hidden1.shape,logits.shape, probas.shape, classes.shape)\n",
    "\n",
    "loss = tf.reduce_mean(tf.nn.softmax_cross_entropy_with_logits(labels=input_y, logits=logits))\n",
    "\n",
    "step = tf.train.AdamOptimizer().minimize(loss)\n",
    "\n",
    "s.run(tf.global_variables_initializer())\n",
    "\n",
    "BATCH_SIZE = 512\n",
    "EPOCHS = 40\n",
    "\n",
    "# for logging the progress right here in Jupyter (for those who don't have TensorBoard)\n",
    "simpleTrainingCurves = matplotlib_utils.SimpleTrainingCurves(\"cross-entropy\", \"accuracy\")\n",
    "\n",
    "for epoch in range(EPOCHS):  # we finish an epoch when we've looked at all training samples\n",
    "    \n",
    "    batch_losses = []\n",
    "    for batch_start in range(0, X_train_flat.shape[0], BATCH_SIZE):  # data is already shuffled\n",
    "        _, batch_loss = s.run([step, loss], {input_X: X_train_flat[batch_start:batch_start+BATCH_SIZE], \n",
    "                                             input_y: y_train_oh[batch_start:batch_start+BATCH_SIZE]})\n",
    "        # collect batch losses, this is almost free as we need a forward pass for backprop anyway\n",
    "        batch_losses.append(batch_loss)\n",
    "\n",
    "    train_loss = np.mean(batch_losses)\n",
    "    val_loss = s.run(loss, {input_X: X_val_flat, input_y: y_val_oh})  # this part is usually small\n",
    "    train_accuracy = accuracy_score(y_train, s.run(classes, {input_X: X_train_flat}))  # this is slow and usually skipped\n",
    "    valid_accuracy = accuracy_score(y_val, s.run(classes, {input_X: X_val_flat}))"
   ]
  },
  {
   "cell_type": "markdown",
   "metadata": {},
   "source": [
    "# Submit the MLP with 2 hidden layers\n",
    "Run these cells after training the MLP with 2 hidden layers"
   ]
  },
  {
   "cell_type": "code",
   "execution_count": 24,
   "metadata": {
    "collapsed": true
   },
   "outputs": [],
   "source": [
    "## GRADED PART, DO NOT CHANGE!\n",
    "# Validation loss for MLP\n",
    "grader.set_answer(\"i8bgs\", s.run(loss, {input_X: X_val_flat, input_y: y_val_oh}))\n",
    "# Validation accuracy for MLP\n",
    "grader.set_answer(\"rE763\", accuracy_score(y_val, s.run(classes, {input_X: X_val_flat})))"
   ]
  },
  {
   "cell_type": "code",
   "execution_count": 25,
   "metadata": {},
   "outputs": [
    {
     "name": "stdout",
     "output_type": "stream",
     "text": [
      "Submitted to Coursera platform. See results on assignment page!\n"
     ]
    }
   ],
   "source": [
    "# you can make submission with answers so far to check yourself at this stage\n",
    "grader.submit(COURSERA_EMAIL, COURSERA_TOKEN)"
   ]
  },
  {
   "cell_type": "code",
   "execution_count": null,
   "metadata": {
    "collapsed": true
   },
   "outputs": [],
   "source": []
  }
 ],
 "metadata": {
  "kernelspec": {
   "display_name": "Python 3",
   "language": "python",
   "name": "python3"
  },
  "language_info": {
   "codemirror_mode": {
    "name": "ipython",
    "version": 3
   },
   "file_extension": ".py",
   "mimetype": "text/x-python",
   "name": "python",
   "nbconvert_exporter": "python",
   "pygments_lexer": "ipython3",
   "version": "3.6.2"
  }
 },
 "nbformat": 4,
 "nbformat_minor": 1
}
